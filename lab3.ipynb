{
 "cells": [
  {
   "cell_type": "markdown",
   "metadata": {
    "colab_type": "text",
    "id": "ApbnzypePrZi"
   },
   "source": [
    "**Лабораторная работа №3. Реализация сверточной нейронной сети**"
   ]
  },
  {
   "cell_type": "markdown",
   "metadata": {
    "colab_type": "text",
    "id": "xeq8MyrcP6pl"
   },
   "source": [
    "**Данные:** В работе предлагается использовать набор данных notMNIST, который состоит из изображений размерностью 28×28 первых 10 букв латинского алфавита (A … J, соответственно). Обучающая выборка содержит порядка 500 тыс. изображений, а тестовая – около 19 тыс.\n",
    "\n",
    "Данные можно скачать по ссылке:\n",
    "https://commondatastorage.googleapis.com/books1000/notMNIST_large.tar.gz (большой набор данных);\n",
    "https://commondatastorage.googleapis.com/books1000/notMNIST_small.tar.gz (маленький набор данных);\n",
    "Описание данных на английском языке доступно по ссылке:\n",
    "http://yaroslavvb.blogspot.sg/2011/09/notmnist-dataset.html\n"
   ]
  },
  {
   "cell_type": "code",
   "execution_count": 0,
   "metadata": {
    "colab": {},
    "colab_type": "code",
    "id": "XMtuH3JVI2CP"
   },
   "outputs": [],
   "source": [
    "import tensorflow as tf\n",
    "from scipy.io import loadmat\n",
    "import numpy as np\n",
    "from keras.utils import to_categorical\n",
    "from tensorflow.keras import layers, models, Sequential"
   ]
  },
  {
   "cell_type": "markdown",
   "metadata": {
    "colab_type": "text",
    "id": "Xx3wG_J2QDWB"
   },
   "source": [
    "**Задание 1.**\n",
    "Реализуйте нейронную сеть с двумя сверточными слоями, и одним полносвязным с нейронами с кусочно-линейной функцией активации. Какова точность построенное модели?\n"
   ]
  },
  {
   "cell_type": "code",
   "execution_count": 0,
   "metadata": {
    "colab": {},
    "colab_type": "code",
    "id": "zktzZzLJKeFU"
   },
   "outputs": [],
   "source": [
    "def getDataset(file):\n",
    "    matfile = loadmat(file)\n",
    "    x = matfile['images'] / 255\n",
    "    y = matfile['labels']\n",
    "    x, y = x.T, y.T\n",
    "    x = x.reshape(x.shape[0], x.shape[1], x.shape[2], 1)\n",
    "    y = to_categorical(y)\n",
    "    return x, y"
   ]
  },
  {
   "cell_type": "code",
   "execution_count": 11,
   "metadata": {
    "colab": {
     "base_uri": "https://localhost:8080/",
     "height": 62
    },
    "colab_type": "code",
    "id": "CYHHZL8SPnmO",
    "outputId": "90924025-40c2-4f10-99f7-38ebbf527835"
   },
   "outputs": [
    {
     "name": "stdout",
     "output_type": "stream",
     "text": [
      "(529115, 28, 28, 1) (529115, 1)\n",
      "(18724, 28, 28, 1) (18724, 1)\n"
     ]
    }
   ],
   "source": [
    "trainX, trainY = getDataset(\"/content/drive/My Drive/Collab Data/train_dataset.mat\")\n",
    "print(trainX.shape, trainY.shape)\n",
    "testX, testY = getDataset(\"/content/drive/My Drive/Collab Data/test_dataset.mat\")\n",
    "print(testX.shape, testY.shape)"
   ]
  },
  {
   "cell_type": "code",
   "execution_count": 14,
   "metadata": {
    "colab": {
     "base_uri": "https://localhost:8080/",
     "height": 722
    },
    "colab_type": "code",
    "id": "oG3GiEl4RSJ8",
    "outputId": "27566679-1c57-4508-e9ef-095aa3e4bb04"
   },
   "outputs": [
    {
     "name": "stdout",
     "output_type": "stream",
     "text": [
      "Train on 529115 samples, validate on 18724 samples\n",
      "Epoch 1/15\n",
      "529115/529115 [==============================] - 52s 98us/sample - loss: 0.3813 - acc: 0.8950 - val_loss: 0.1521 - val_acc: 0.9593\n",
      "Epoch 2/15\n",
      "529115/529115 [==============================] - 52s 99us/sample - loss: 0.3055 - acc: 0.9151 - val_loss: 0.1340 - val_acc: 0.9636\n",
      "Epoch 3/15\n",
      "529115/529115 [==============================] - 52s 99us/sample - loss: 0.2730 - acc: 0.9237 - val_loss: 0.1514 - val_acc: 0.9601\n",
      "Epoch 4/15\n",
      "529115/529115 [==============================] - 52s 98us/sample - loss: 0.2502 - acc: 0.9300 - val_loss: 0.1371 - val_acc: 0.9629\n",
      "Epoch 5/15\n",
      "529115/529115 [==============================] - 52s 98us/sample - loss: 0.2318 - acc: 0.9345 - val_loss: 0.1356 - val_acc: 0.9632\n",
      "Epoch 6/15\n",
      "529115/529115 [==============================] - 52s 98us/sample - loss: 0.2173 - acc: 0.9382 - val_loss: 0.1403 - val_acc: 0.9622\n",
      "Epoch 7/15\n",
      "529115/529115 [==============================] - 52s 99us/sample - loss: 0.2056 - acc: 0.9412 - val_loss: 0.1465 - val_acc: 0.9623\n",
      "Epoch 8/15\n",
      "529115/529115 [==============================] - 52s 99us/sample - loss: 0.1951 - acc: 0.9440 - val_loss: 0.1500 - val_acc: 0.9614\n",
      "Epoch 9/15\n",
      "529115/529115 [==============================] - 52s 98us/sample - loss: 0.1859 - acc: 0.9460 - val_loss: 0.1556 - val_acc: 0.9598\n",
      "Epoch 10/15\n",
      "529115/529115 [==============================] - 52s 98us/sample - loss: 0.1784 - acc: 0.9480 - val_loss: 0.1649 - val_acc: 0.9589\n",
      "Epoch 11/15\n",
      "529115/529115 [==============================] - 52s 98us/sample - loss: 0.1716 - acc: 0.9501 - val_loss: 0.1748 - val_acc: 0.9579\n",
      "Epoch 12/15\n",
      "529115/529115 [==============================] - 52s 98us/sample - loss: 0.1652 - acc: 0.9516 - val_loss: 0.1793 - val_acc: 0.9568\n",
      "Epoch 13/15\n",
      "529115/529115 [==============================] - 52s 98us/sample - loss: 0.1597 - acc: 0.9530 - val_loss: 0.1783 - val_acc: 0.9592\n",
      "Epoch 14/15\n",
      "529115/529115 [==============================] - 52s 99us/sample - loss: 0.1548 - acc: 0.9545 - val_loss: 0.1904 - val_acc: 0.9559\n",
      "Epoch 15/15\n",
      "529115/529115 [==============================] - 52s 98us/sample - loss: 0.1498 - acc: 0.9558 - val_loss: 0.1948 - val_acc: 0.9586\n"
     ]
    },
    {
     "data": {
      "text/plain": [
       "<tensorflow.python.keras.callbacks.History at 0x7fddba1af5c0>"
      ]
     },
     "execution_count": 14,
     "metadata": {
      "tags": []
     },
     "output_type": "execute_result"
    }
   ],
   "source": [
    "model = Sequential([\n",
    "    layers.Conv2D(64, kernel_size=3, activation='relu', input_shape=(28,28,1)),\n",
    "    layers.Conv2D(32, kernel_size=3, activation='relu'),\n",
    "    layers.Flatten(),\n",
    "    layers.Dense(10, activation='softmax')\n",
    "])\n",
    "\n",
    "model.compile(optimizer='adam', loss='sparse_categorical_crossentropy', metrics=['accuracy'])\n",
    "\n",
    "model.fit(trainX, trainY, validation_data=(testX, testY), epochs=15)"
   ]
  },
  {
   "cell_type": "code",
   "execution_count": 16,
   "metadata": {
    "colab": {
     "base_uri": "https://localhost:8080/",
     "height": 62
    },
    "colab_type": "code",
    "id": "By8fLVFi3Sso",
    "outputId": "a5c701b6-e3f8-4f5f-b1a8-c5241d88a15b"
   },
   "outputs": [
    {
     "name": "stdout",
     "output_type": "stream",
     "text": [
      "18724/18724 - 1s - loss: 0.1948 - acc: 0.9586\n",
      "Точность на проверочных данных: 0.9586093\n"
     ]
    }
   ],
   "source": [
    "testLoss, testAcc = model.evaluate(testX, testY, verbose=2)\n",
    "print('Точность на проверочных данных:', testAcc)"
   ]
  },
  {
   "cell_type": "markdown",
   "metadata": {
    "colab_type": "text",
    "id": "DTt4L7dZQHdR"
   },
   "source": [
    "**Задание 2.**\n",
    "Замените один из сверточных слоев на слой, реализующий операцию пулинга (Pooling) с функцией максимума или среднего. Как это повлияло на точность классификатора?\n"
   ]
  },
  {
   "cell_type": "code",
   "execution_count": 17,
   "metadata": {
    "colab": {
     "base_uri": "https://localhost:8080/",
     "height": 722
    },
    "colab_type": "code",
    "id": "xeSnRFFY1-z-",
    "outputId": "1a17eddd-72d6-4992-acb0-2df62e20df88"
   },
   "outputs": [
    {
     "name": "stdout",
     "output_type": "stream",
     "text": [
      "Train on 529115 samples, validate on 18724 samples\n",
      "Epoch 1/15\n",
      "529115/529115 [==============================] - 50s 94us/sample - loss: 0.4351 - acc: 0.8830 - val_loss: 0.1937 - val_acc: 0.9501\n",
      "Epoch 2/15\n",
      "529115/529115 [==============================] - 47s 89us/sample - loss: 0.3723 - acc: 0.8998 - val_loss: 0.1731 - val_acc: 0.9541\n",
      "Epoch 3/15\n",
      "529115/529115 [==============================] - 48s 90us/sample - loss: 0.3494 - acc: 0.9053 - val_loss: 0.1665 - val_acc: 0.9560\n",
      "Epoch 4/15\n",
      "529115/529115 [==============================] - 48s 90us/sample - loss: 0.3350 - acc: 0.9088 - val_loss: 0.1646 - val_acc: 0.9566\n",
      "Epoch 5/15\n",
      "529115/529115 [==============================] - 47s 89us/sample - loss: 0.3243 - acc: 0.9116 - val_loss: 0.1615 - val_acc: 0.9584\n",
      "Epoch 6/15\n",
      "529115/529115 [==============================] - 47s 90us/sample - loss: 0.3168 - acc: 0.9132 - val_loss: 0.1600 - val_acc: 0.9581\n",
      "Epoch 7/15\n",
      "529115/529115 [==============================] - 47s 89us/sample - loss: 0.3101 - acc: 0.9149 - val_loss: 0.1565 - val_acc: 0.9586\n",
      "Epoch 8/15\n",
      "529115/529115 [==============================] - 47s 88us/sample - loss: 0.3053 - acc: 0.9159 - val_loss: 0.1600 - val_acc: 0.9576\n",
      "Epoch 9/15\n",
      "529115/529115 [==============================] - 47s 89us/sample - loss: 0.3009 - acc: 0.9171 - val_loss: 0.1610 - val_acc: 0.9579\n",
      "Epoch 10/15\n",
      "529115/529115 [==============================] - 48s 91us/sample - loss: 0.2972 - acc: 0.9181 - val_loss: 0.1594 - val_acc: 0.9568\n",
      "Epoch 11/15\n",
      "529115/529115 [==============================] - 47s 90us/sample - loss: 0.2938 - acc: 0.9187 - val_loss: 0.1602 - val_acc: 0.9564\n",
      "Epoch 12/15\n",
      "529115/529115 [==============================] - 47s 89us/sample - loss: 0.2913 - acc: 0.9191 - val_loss: 0.1607 - val_acc: 0.9573\n",
      "Epoch 13/15\n",
      "529115/529115 [==============================] - 47s 89us/sample - loss: 0.2890 - acc: 0.9199 - val_loss: 0.1639 - val_acc: 0.9557\n",
      "Epoch 14/15\n",
      "529115/529115 [==============================] - 48s 90us/sample - loss: 0.2867 - acc: 0.9205 - val_loss: 0.1625 - val_acc: 0.9575\n",
      "Epoch 15/15\n",
      "529115/529115 [==============================] - 47s 89us/sample - loss: 0.2848 - acc: 0.9208 - val_loss: 0.1619 - val_acc: 0.9567\n"
     ]
    },
    {
     "data": {
      "text/plain": [
       "<tensorflow.python.keras.callbacks.History at 0x7fddb3eeeb38>"
      ]
     },
     "execution_count": 17,
     "metadata": {
      "tags": []
     },
     "output_type": "execute_result"
    }
   ],
   "source": [
    "modelWithPooling = Sequential([\n",
    "    layers.Conv2D(64, kernel_size=3, activation='relu', input_shape=(28,28,1)),\n",
    "    layers.MaxPooling2D((2, 2)),\n",
    "    layers.Flatten(),\n",
    "    layers.Dense(10, activation='softmax')\n",
    "])\n",
    "\n",
    "modelWithPooling.compile(optimizer='adam', loss='sparse_categorical_crossentropy', metrics=['accuracy'])\n",
    "\n",
    "modelWithPooling.fit(trainX, trainY, validation_data=(testX, testY), epochs=15)"
   ]
  },
  {
   "cell_type": "code",
   "execution_count": 18,
   "metadata": {
    "colab": {
     "base_uri": "https://localhost:8080/",
     "height": 62
    },
    "colab_type": "code",
    "id": "CRHg6Yg93b_u",
    "outputId": "8ab3a854-d0ee-4ca2-b7ef-608da0ea6001"
   },
   "outputs": [
    {
     "name": "stdout",
     "output_type": "stream",
     "text": [
      "18724/18724 - 1s - loss: 0.1619 - acc: 0.9567\n",
      "Точность на проверочных данных c пулингом: 0.95674\n"
     ]
    }
   ],
   "source": [
    "testWithPoolingLoss, testWithPoolingAcc = modelWithPooling.evaluate(testX, testY, verbose=2)\n",
    "print('Точность на проверочных данных c пулингом:', testWithPoolingAcc)"
   ]
  },
  {
   "cell_type": "markdown",
   "metadata": {
    "colab_type": "text",
    "id": "HwaWRAYUQUh4"
   },
   "source": [
    "**Задание 3.**\n",
    "Реализуйте классическую архитектуру сверточных сетей LeNet-5 (http://yann.lecun.com/exdb/lenet/).\n"
   ]
  },
  {
   "cell_type": "code",
   "execution_count": 19,
   "metadata": {
    "colab": {
     "base_uri": "https://localhost:8080/",
     "height": 722
    },
    "colab_type": "code",
    "id": "zxPm1Z8130Ou",
    "outputId": "38160a20-8bcb-4b8e-fc89-1d052dbcaf49"
   },
   "outputs": [
    {
     "name": "stdout",
     "output_type": "stream",
     "text": [
      "Train on 529115 samples, validate on 18724 samples\n",
      "Epoch 1/15\n",
      "529115/529115 [==============================] - 49s 93us/sample - loss: 0.4170 - acc: 0.8726 - val_loss: 0.1603 - val_acc: 0.9530\n",
      "Epoch 2/15\n",
      "529115/529115 [==============================] - 48s 91us/sample - loss: 0.3040 - acc: 0.9059 - val_loss: 0.1341 - val_acc: 0.9592\n",
      "Epoch 3/15\n",
      "529115/529115 [==============================] - 48s 91us/sample - loss: 0.2758 - acc: 0.9140 - val_loss: 0.1201 - val_acc: 0.9630\n",
      "Epoch 4/15\n",
      "529115/529115 [==============================] - 48s 90us/sample - loss: 0.2587 - acc: 0.9191 - val_loss: 0.1198 - val_acc: 0.9651\n",
      "Epoch 5/15\n",
      "529115/529115 [==============================] - 48s 90us/sample - loss: 0.2476 - acc: 0.9223 - val_loss: 0.1181 - val_acc: 0.9647\n",
      "Epoch 6/15\n",
      "529115/529115 [==============================] - 48s 91us/sample - loss: 0.2382 - acc: 0.9249 - val_loss: 0.1159 - val_acc: 0.9656\n",
      "Epoch 7/15\n",
      "529115/529115 [==============================] - 49s 92us/sample - loss: 0.2315 - acc: 0.9267 - val_loss: 0.1096 - val_acc: 0.9677\n",
      "Epoch 8/15\n",
      "529115/529115 [==============================] - 48s 91us/sample - loss: 0.2251 - acc: 0.9288 - val_loss: 0.1109 - val_acc: 0.9672\n",
      "Epoch 9/15\n",
      "529115/529115 [==============================] - 48s 90us/sample - loss: 0.2200 - acc: 0.9301 - val_loss: 0.1083 - val_acc: 0.9682\n",
      "Epoch 10/15\n",
      "529115/529115 [==============================] - 48s 90us/sample - loss: 0.2158 - acc: 0.9314 - val_loss: 0.1093 - val_acc: 0.9678\n",
      "Epoch 11/15\n",
      "529115/529115 [==============================] - 48s 90us/sample - loss: 0.2113 - acc: 0.9327 - val_loss: 0.1108 - val_acc: 0.9688\n",
      "Epoch 12/15\n",
      "529115/529115 [==============================] - 48s 90us/sample - loss: 0.2071 - acc: 0.9338 - val_loss: 0.1110 - val_acc: 0.9675\n",
      "Epoch 13/15\n",
      "529115/529115 [==============================] - 48s 90us/sample - loss: 0.2041 - acc: 0.9348 - val_loss: 0.1129 - val_acc: 0.9674\n",
      "Epoch 14/15\n",
      "529115/529115 [==============================] - 49s 92us/sample - loss: 0.2010 - acc: 0.9355 - val_loss: 0.1109 - val_acc: 0.9682\n",
      "Epoch 15/15\n",
      "529115/529115 [==============================] - 48s 90us/sample - loss: 0.1984 - acc: 0.9363 - val_loss: 0.1137 - val_acc: 0.9668\n"
     ]
    },
    {
     "data": {
      "text/plain": [
       "<tensorflow.python.keras.callbacks.History at 0x7fddb3f58860>"
      ]
     },
     "execution_count": 19,
     "metadata": {
      "tags": []
     },
     "output_type": "execute_result"
    }
   ],
   "source": [
    "leNet5model = Sequential([\n",
    "    layers.Conv2D(filters=6, kernel_size=3, activation='relu', input_shape=(28,28,1)),\n",
    "    layers.AveragePooling2D(),\n",
    "    layers.Conv2D(filters=16, kernel_size=3, activation='relu'),\n",
    "    layers.AveragePooling2D(),\n",
    "    layers.Flatten(),\n",
    "    layers.Dense(units=120, activation='relu'),\n",
    "    layers.Dense(units=84, activation='relu'),\n",
    "    layers.Dense(units=10, activation = 'softmax')\n",
    "])\n",
    "\n",
    "leNet5model.compile(optimizer='adam', loss='sparse_categorical_crossentropy', metrics=['accuracy'])\n",
    "\n",
    "leNet5model.fit(trainX, trainY, validation_data=(testX, testY), epochs=15)"
   ]
  },
  {
   "cell_type": "code",
   "execution_count": 20,
   "metadata": {
    "colab": {
     "base_uri": "https://localhost:8080/",
     "height": 62
    },
    "colab_type": "code",
    "id": "JuMrFO256R4Z",
    "outputId": "a930ef52-88f5-4733-967f-ae3152c7836c"
   },
   "outputs": [
    {
     "name": "stdout",
     "output_type": "stream",
     "text": [
      "18724/18724 - 1s - loss: 0.1137 - acc: 0.9668\n",
      "Точность на проверочных данных c пулингом: 0.966834\n"
     ]
    }
   ],
   "source": [
    "testLeNetLoss, testLeNetAcc = leNet5model.evaluate(testX, testY, verbose=2)\n",
    "print('Точность на проверочных данных c пулингом:', testLeNetAcc)"
   ]
  }
 ],
 "metadata": {
  "accelerator": "GPU",
  "colab": {
   "name": "Lab 3.ipynb",
   "provenance": [],
   "toc_visible": true
  },
  "kernelspec": {
   "display_name": "Python 3",
   "language": "python",
   "name": "python3"
  },
  "language_info": {
   "codemirror_mode": {
    "name": "ipython",
    "version": 3
   },
   "file_extension": ".py",
   "mimetype": "text/x-python",
   "name": "python",
   "nbconvert_exporter": "python",
   "pygments_lexer": "ipython3",
   "version": "3.8.0"
  }
 },
 "nbformat": 4,
 "nbformat_minor": 1
}
