{
 "cells": [
  {
   "cell_type": "markdown",
   "metadata": {
    "colab_type": "text",
    "id": "CD3w5LE-oCj2"
   },
   "source": [
    "**Лабораторная работа №4. Реализация приложения по распознаванию номеров домов.**\n"
   ]
  },
  {
   "cell_type": "markdown",
   "metadata": {
    "colab_type": "text",
    "id": "oTufrC9roOk9"
   },
   "source": [
    "**Данные:** Набор изображений из Google Street View с изображениями номеров домов, содержащий 10 классов, соответствующих цифрам от 0 до 9.\n",
    "73257 изображений цифр в обучающей выборке;\n",
    "26032 изображения цифр в тестовой выборке;\n",
    "531131 изображения, которые можно использовать как дополнение к обучающей выборке;\n",
    "\n",
    "*В двух форматах:*\n",
    "*   Оригинальные изображения с выделенными цифрами;\n",
    "*   Изображения размером 32 × 32, содержащих одну цифру;\n",
    "\n",
    "\n",
    "\n",
    "Данные *первого формата* можно скачать по ссылкам:\n",
    "*   http://ufldl.stanford.edu/housenumbers/train.tar.gz (обучающая выборка);\n",
    "*   http://ufldl.stanford.edu/housenumbers/test.tar.gz (тестовая выборка);\n",
    "*   http://ufldl.stanford.edu/housenumbers/extra.tar.gz (дополнительные данные);\n",
    "\n",
    "Данные *второго формата* можно скачать по ссылкам:\n",
    "*   http://ufldl.stanford.edu/housenumbers/train_32x32.mat (обучающая выборка);\n",
    "*   http://ufldl.stanford.edu/housenumbers/test_32x32.mat (тестовая выборка);\n",
    "*   http://ufldl.stanford.edu/housenumbers/extra_32x32.mat (дополнительные данные);\n",
    "\n",
    "Описание данных на английском языке доступно по ссылке:\n",
    "*   http://ufldl.stanford.edu/housenumbers/\n",
    "\n"
   ]
  },
  {
   "cell_type": "code",
   "execution_count": 15,
   "metadata": {
    "colab": {
     "base_uri": "https://localhost:8080/",
     "height": 40
    },
    "colab_type": "code",
    "id": "UZLA4TDAorQh",
    "outputId": "859c5ce0-75e2-4d70-a2e0-112a17ca8183"
   },
   "outputs": [
    {
     "name": "stdout",
     "output_type": "stream",
     "text": [
      "1.15.0\n"
     ]
    }
   ],
   "source": [
    "from tensorflow.keras.datasets import mnist\n",
    "import matplotlib.pyplot as plt\n",
    "from tensorflow.keras.models import Sequential\n",
    "import tensorflow.keras.layers\n",
    "from tensorflow.keras.utils import to_categorical\n",
    "from scipy.io import loadmat\n",
    "import tensorflow as tf\n",
    "from google.colab import files\n",
    "\n",
    "print(tf.version.VERSION)"
   ]
  },
  {
   "cell_type": "markdown",
   "metadata": {
    "colab_type": "text",
    "id": "buozhhBMou4N"
   },
   "source": [
    "**Задание 1.**\n",
    "Реализуйте глубокую нейронную сеть (полносвязную или сверточную) и обучите ее на синтетических данных (например, наборы MNIST (http://yann.lecun.com/exdb/mnist/) или notMNIST).\n",
    "Ознакомьтесь с имеющимися работами по данной тематике: англоязычная статья (http://static.googleusercontent.com/media/research.google.com/en//pubs/archive/42241.pdf), видео на YouTube (https://www.youtube.com/watch?v=vGPI_JvLoN0).\n",
    "\n"
   ]
  },
  {
   "cell_type": "code",
   "execution_count": 0,
   "metadata": {
    "colab": {},
    "colab_type": "code",
    "id": "xnx0lTnoCYVt"
   },
   "outputs": [],
   "source": [
    "def showImages(trainDataset):\n",
    "  plt.subplot(221)\n",
    "  plt.imshow(trainDataset[0], cmap=plt.get_cmap('gray'))\n",
    "  plt.subplot(222)\n",
    "  plt.imshow(trainDataset[1], cmap=plt.get_cmap('gray'))\n",
    "  plt.subplot(223)\n",
    "  plt.imshow(trainDataset[2], cmap=plt.get_cmap('gray'))\n",
    "  plt.subplot(224)\n",
    "  plt.imshow(trainDataset[3], cmap=plt.get_cmap('gray'))\n",
    "  plt.show()"
   ]
  },
  {
   "cell_type": "code",
   "execution_count": 5,
   "metadata": {
    "colab": {
     "base_uri": "https://localhost:8080/",
     "height": 312
    },
    "colab_type": "code",
    "id": "iTiBmbXSpHYF",
    "outputId": "2eac4e60-db78-4c29-9d07-9a88f59fb07a"
   },
   "outputs": [
    {
     "name": "stdout",
     "output_type": "stream",
     "text": [
      "Downloading data from https://storage.googleapis.com/tensorflow/tf-keras-datasets/mnist.npz\n",
      "11493376/11490434 [==============================] - 0s 0us/step\n"
     ]
    },
    {
     "data": {
      "image/png": "[encoded data removed]",
      "text/plain": [
       "<Figure size 432x288 with 4 Axes>"
      ]
     },
     "metadata": {
      "tags": []
     },
     "output_type": "display_data"
    }
   ],
   "source": [
    "(xTrain, yTrain), (xTest, yTest) = mnist.load_data()\n",
    "showImages(xTrain)"
   ]
  },
  {
   "cell_type": "code",
   "execution_count": 6,
   "metadata": {
    "colab": {
     "base_uri": "https://localhost:8080/",
     "height": 62
    },
    "colab_type": "code",
    "id": "X-cRiSev74He",
    "outputId": "66aedd43-208f-4481-fdd8-ee58892982d5"
   },
   "outputs": [
    {
     "name": "stdout",
     "output_type": "stream",
     "text": [
      "(60000, 28, 28) (60000,)\n",
      "(10000, 28, 28) (10000,)\n"
     ]
    }
   ],
   "source": [
    "print(xTrain.shape, yTrain.shape)\n",
    "print(xTest.shape, yTest.shape)"
   ]
  },
  {
   "cell_type": "code",
   "execution_count": 0,
   "metadata": {
    "colab": {},
    "colab_type": "code",
    "id": "pxCETZoz8zYZ"
   },
   "outputs": [],
   "source": [
    "def largerModel(num_classes):\n",
    "\tmodel = tf.keras.models.Sequential([\n",
    "\t\t  tf.keras.layers.Conv2D(30, (5, 5), input_shape=(28, 28, 1), activation='relu'),\n",
    "\t\t\ttf.keras.layers.MaxPooling2D(pool_size=(2, 2)),\n",
    "\t\t\ttf.keras.layers.Conv2D(15, (3, 3), activation='relu'),\n",
    "\t\t\ttf.keras.layers.MaxPooling2D(pool_size=(2, 2)),\n",
    "\t\t\ttf.keras.layers.Dropout(0.2),\n",
    "\t\t\ttf.keras.layers.Flatten(),\n",
    "\t\t\ttf.keras.layers.Dense(128, activation='relu'),\n",
    "\t\t\ttf.keras.layers.Dense(50, activation='relu'),\n",
    "\t\t\ttf.keras.layers.Dense(num_classes, activation='softmax')\n",
    "\t])\n",
    "\n",
    "\tmodel.compile(loss='categorical_crossentropy', optimizer='adam', metrics=['accuracy'])\n",
    "\treturn model\n",
    "\n",
    "def reshapeDataset(x, y):\n",
    "  x = x / 255\n",
    "  x = x.reshape(x.shape[0], x.shape[1], x.shape[2], 1)\n",
    "  y = to_categorical(y)\n",
    "  return x, y"
   ]
  },
  {
   "cell_type": "code",
   "execution_count": 8,
   "metadata": {
    "colab": {
     "base_uri": "https://localhost:8080/",
     "height": 502
    },
    "colab_type": "code",
    "id": "o4u3ZqKs8RNw",
    "outputId": "aa6be7ea-2422-4a0c-b3bc-875a34ddb8ad"
   },
   "outputs": [
    {
     "name": "stdout",
     "output_type": "stream",
     "text": [
      "Train on 60000 samples, validate on 10000 samples\n",
      "Epoch 1/10\n",
      "60000/60000 [==============================] - 16s 263us/sample - loss: 0.1580 - acc: 0.9513 - val_loss: 0.0554 - val_acc: 0.9806\n",
      "Epoch 2/10\n",
      "60000/60000 [==============================] - 10s 166us/sample - loss: 0.0519 - acc: 0.9843 - val_loss: 0.0357 - val_acc: 0.9887\n",
      "Epoch 3/10\n",
      "60000/60000 [==============================] - 10s 166us/sample - loss: 0.0378 - acc: 0.9880 - val_loss: 0.0351 - val_acc: 0.9902\n",
      "Epoch 4/10\n",
      "60000/60000 [==============================] - 10s 166us/sample - loss: 0.0301 - acc: 0.9909 - val_loss: 0.0299 - val_acc: 0.9899\n",
      "Epoch 5/10\n",
      "60000/60000 [==============================] - 10s 167us/sample - loss: 0.0242 - acc: 0.9923 - val_loss: 0.0447 - val_acc: 0.9856\n",
      "Epoch 6/10\n",
      "60000/60000 [==============================] - 10s 167us/sample - loss: 0.0214 - acc: 0.9933 - val_loss: 0.0335 - val_acc: 0.9893\n",
      "Epoch 7/10\n",
      "60000/60000 [==============================] - 10s 166us/sample - loss: 0.0165 - acc: 0.9948 - val_loss: 0.0335 - val_acc: 0.9909\n",
      "Epoch 8/10\n",
      "60000/60000 [==============================] - 10s 166us/sample - loss: 0.0163 - acc: 0.9950 - val_loss: 0.0307 - val_acc: 0.9918\n",
      "Epoch 9/10\n",
      "60000/60000 [==============================] - 10s 166us/sample - loss: 0.0119 - acc: 0.9962 - val_loss: 0.0387 - val_acc: 0.9897\n",
      "Epoch 10/10\n",
      "60000/60000 [==============================] - 10s 167us/sample - loss: 0.0122 - acc: 0.9959 - val_loss: 0.0304 - val_acc: 0.9920\n",
      "Large CNN Error: 0.80%\n"
     ]
    }
   ],
   "source": [
    "(xTrain, yTrain), (xTest, yTest) = mnist.load_data()\n",
    "xTrain, yTrain = reshapeDataset(xTrain, yTrain)\n",
    "xTest, yTest = reshapeDataset(xTest, yTest)\n",
    "\n",
    "def trainModel(xTrain, yTrain, xTest, yTest):\n",
    "  num_classes = yTrain.shape[1]\n",
    "  model = largerModel(num_classes)\n",
    "\n",
    "  model.fit(xTrain, yTrain, epochs=10, validation_data=(xTest, yTest))\n",
    "\n",
    "  scores = model.evaluate(xTest, yTest, verbose=0)\n",
    "  print(\"Large CNN Error: %.2f%%\" % (100-scores[1]*100))\n",
    "\n",
    "trainModel(xTrain, yTrain, xTest, yTest)"
   ]
  },
  {
   "cell_type": "markdown",
   "metadata": {
    "colab_type": "text",
    "id": "MnrnxImooylR"
   },
   "source": [
    "**Задание 2.**\n",
    "После уточнения модели на синтетических данных попробуйте обучить ее на реальных данных (набор Google Street View). Что изменилось в модели?\n"
   ]
  },
  {
   "cell_type": "code",
   "execution_count": 0,
   "metadata": {
    "colab": {},
    "colab_type": "code",
    "id": "5RsxF4n-pIH6"
   },
   "outputs": [],
   "source": [
    "def getDataset(file):\n",
    "  matfile = loadmat(file)\n",
    "  x = matfile['X'] / 255\n",
    "  y = matfile['y']\n",
    "  y = to_categorical(y)\n",
    "  return x, y\n",
    "\n",
    "xTrain, yTrain = getDataset(\"/content/drive/My Drive/Collab Data/train_32x32.mat\")\n",
    "xTest, yTest = getDataset(\"/content/drive/My Drive/Collab Data/test_32x32.mat\")"
   ]
  },
  {
   "cell_type": "code",
   "execution_count": 10,
   "metadata": {
    "colab": {
     "base_uri": "https://localhost:8080/",
     "height": 518
    },
    "colab_type": "code",
    "id": "V9_KH80QExcF",
    "outputId": "26bbda55-d682-4422-da03-99ac6571507d"
   },
   "outputs": [
    {
     "data": {
      "image/png": "[encoded data removed]",
      "text/plain": [
       "<Figure size 432x288 with 4 Axes>"
      ]
     },
     "metadata": {
      "tags": []
     },
     "output_type": "display_data"
    },
    {
     "data": {
      "image/png": "[encoded data removed]",
      "text/plain": [
       "<Figure size 432x288 with 4 Axes>"
      ]
     },
     "metadata": {
      "tags": []
     },
     "output_type": "display_data"
    }
   ],
   "source": [
    "def showGoogleImages(trainDataset):\n",
    "  plt.subplot(221)\n",
    "  plt.imshow(trainDataset[:,:,:,0], cmap=plt.get_cmap('gray'))\n",
    "  plt.subplot(222)\n",
    "  plt.imshow(trainDataset[:,:,:,1], cmap=plt.get_cmap('gray'))\n",
    "  plt.subplot(223)\n",
    "  plt.imshow(trainDataset[:,:,:,2], cmap=plt.get_cmap('gray'))\n",
    "  plt.subplot(224)\n",
    "  plt.imshow(trainDataset[:,:,:,3], cmap=plt.get_cmap('gray'))\n",
    "  plt.show()\n",
    "\n",
    "showGoogleImages(xTrain)\n",
    "showGoogleImages(xTest)"
   ]
  },
  {
   "cell_type": "code",
   "execution_count": 11,
   "metadata": {
    "colab": {
     "base_uri": "https://localhost:8080/",
     "height": 62
    },
    "colab_type": "code",
    "id": "ibwoX8ibE1Ka",
    "outputId": "9b3a1e7c-c021-4e1f-f56f-ab055208a091"
   },
   "outputs": [
    {
     "name": "stdout",
     "output_type": "stream",
     "text": [
      "(73257, 3, 32, 32) (73257, 11)\n",
      "(26032, 3, 32, 32) (26032, 11)\n"
     ]
    }
   ],
   "source": [
    "xTrain, xTest = xTrain.T, xTest.T\n",
    "print(xTrain.shape, yTrain.shape)\n",
    "print(xTest.shape, yTest.shape)"
   ]
  },
  {
   "cell_type": "code",
   "execution_count": 12,
   "metadata": {
    "colab": {
     "base_uri": "https://localhost:8080/",
     "height": 744
    },
    "colab_type": "code",
    "id": "ggqlbhSuQfnD",
    "outputId": "760641f8-7cda-4b68-c336-510c1bf1ae52"
   },
   "outputs": [
    {
     "name": "stdout",
     "output_type": "stream",
     "text": [
      "(73257, 3, 32, 32) (73257, 11) (26032, 3, 32, 32) (26032, 11)\n",
      "Train on 73257 samples, validate on 26032 samples\n",
      "Epoch 1/15\n",
      "73257/73257 [==============================] - 13s 177us/sample - loss: 1.9820 - acc: 0.3016 - val_loss: 1.4408 - val_acc: 0.5089\n",
      "Epoch 2/15\n",
      "73257/73257 [==============================] - 12s 164us/sample - loss: 1.0644 - acc: 0.6521 - val_loss: 0.8695 - val_acc: 0.7308\n",
      "Epoch 3/15\n",
      "73257/73257 [==============================] - 12s 167us/sample - loss: 0.7178 - acc: 0.7749 - val_loss: 0.7121 - val_acc: 0.7794\n",
      "Epoch 4/15\n",
      "73257/73257 [==============================] - 12s 168us/sample - loss: 0.5861 - acc: 0.8164 - val_loss: 0.6446 - val_acc: 0.8028\n",
      "Epoch 5/15\n",
      "73257/73257 [==============================] - 12s 167us/sample - loss: 0.5014 - acc: 0.8431 - val_loss: 0.5956 - val_acc: 0.8158\n",
      "Epoch 6/15\n",
      "73257/73257 [==============================] - 12s 166us/sample - loss: 0.4455 - acc: 0.8617 - val_loss: 0.5799 - val_acc: 0.8239\n",
      "Epoch 7/15\n",
      "73257/73257 [==============================] - 12s 166us/sample - loss: 0.4011 - acc: 0.8751 - val_loss: 0.5386 - val_acc: 0.8396\n",
      "Epoch 8/15\n",
      "73257/73257 [==============================] - 12s 166us/sample - loss: 0.3543 - acc: 0.8901 - val_loss: 0.5282 - val_acc: 0.8427\n",
      "Epoch 9/15\n",
      "73257/73257 [==============================] - 12s 166us/sample - loss: 0.3083 - acc: 0.9045 - val_loss: 0.5612 - val_acc: 0.8372\n",
      "Epoch 10/15\n",
      "73257/73257 [==============================] - 12s 166us/sample - loss: 0.2715 - acc: 0.9161 - val_loss: 0.5359 - val_acc: 0.8513\n",
      "Epoch 11/15\n",
      "73257/73257 [==============================] - 12s 165us/sample - loss: 0.2332 - acc: 0.9278 - val_loss: 0.5780 - val_acc: 0.8453\n",
      "Epoch 12/15\n",
      "73257/73257 [==============================] - 12s 165us/sample - loss: 0.2022 - acc: 0.9370 - val_loss: 0.6206 - val_acc: 0.8425\n",
      "Epoch 13/15\n",
      "73257/73257 [==============================] - 12s 165us/sample - loss: 0.1689 - acc: 0.9471 - val_loss: 0.6374 - val_acc: 0.8487\n",
      "Epoch 14/15\n",
      "73257/73257 [==============================] - 12s 165us/sample - loss: 0.1447 - acc: 0.9545 - val_loss: 0.7383 - val_acc: 0.8424\n",
      "Epoch 15/15\n",
      "73257/73257 [==============================] - 12s 165us/sample - loss: 0.1214 - acc: 0.9613 - val_loss: 0.7694 - val_acc: 0.8348\n",
      "Large CNN Error: 16.52%\n"
     ]
    }
   ],
   "source": [
    "def largerGoogleModel(numClasses):\n",
    "  model = tf.keras.models.Sequential([\n",
    "\t\t  tf.keras.layers.BatchNormalization(input_shape=(3, 32, 32)),\n",
    "      tf.keras.layers.Conv2D(64, 7, activation='relu', padding='same'),\n",
    "      tf.keras.layers.MaxPooling2D(pool_size=(2, 2)),\n",
    "\n",
    "      tf.keras.layers.BatchNormalization(),\n",
    "      tf.keras.layers.Conv2D(128, 5, activation='relu', padding='same'),\n",
    "\n",
    "      tf.keras.layers.BatchNormalization(),\n",
    "      tf.keras.layers.Conv2D(256, (3,3), activation='relu', padding='same'),\n",
    "      tf.keras.layers.Dropout(0.5),\n",
    "\n",
    "      tf.keras.layers.Flatten(),\n",
    "      tf.keras.layers.Dense(128, activation='relu'),\n",
    "      tf.keras.layers.Dense(50, activation='relu'),\n",
    "      tf.keras.layers.Dense(numClasses, activation='softmax')\n",
    "\t])\n",
    "  \n",
    "  model.compile(loss='categorical_crossentropy', optimizer='adam', metrics=['accuracy'])\n",
    "  return model\n",
    "\n",
    "\n",
    "def trainGoogleModel(xTrain, yTrain, xTest, yTest):\n",
    "  print(xTrain.shape, yTrain.shape, xTest.shape, yTest.shape)\n",
    "  numClasses = yTrain.shape[1]\n",
    "  googleModel = largerGoogleModel(numClasses)\n",
    "  googleModel.fit(xTrain, yTrain, validation_data=(xTest, yTest), epochs=15, batch_size=200)\n",
    "\n",
    "  scores = googleModel.evaluate(xTest, yTest, verbose=0)\n",
    "  print(\"Large CNN Error: %.2f%%\" % (100-scores[1]*100))\n",
    "  return googleModel\n",
    "\n",
    "googleModel = trainGoogleModel(xTrain, yTrain, xTest, yTest)"
   ]
  },
  {
   "cell_type": "code",
   "execution_count": 13,
   "metadata": {
    "colab": {
     "base_uri": "https://localhost:8080/",
     "height": 334
    },
    "colab_type": "code",
    "id": "DHD8s2vagqWt",
    "outputId": "701bfa92-7486-46a4-e200-609c791a5412"
   },
   "outputs": [
    {
     "name": "stdout",
     "output_type": "stream",
     "text": [
      "[7.3576915e-11 1.2531391e-03 1.4728739e-02 6.2116849e-01 1.6494209e-02\n",
      " 2.5953001e-01 1.3081673e-02 3.6232840e-02 1.0242596e-03 3.6485519e-02\n",
      " 1.1432360e-06]\n"
     ]
    },
    {
     "data": {
      "image/png": "[encoded data removed]",
      "text/plain": [
       "<Figure size 432x288 with 4 Axes>"
      ]
     },
     "metadata": {
      "tags": []
     },
     "output_type": "display_data"
    }
   ],
   "source": [
    "print(googleModel.predict(xTest)[0])\n",
    "showGoogleImages(xTest.T)"
   ]
  },
  {
   "cell_type": "markdown",
   "metadata": {
    "colab_type": "text",
    "id": "dBHQsWG_o2AX"
   },
   "source": [
    "**Задание 3.**\n",
    "Сделайте множество снимков изображений номеров домов с помощью смартфона на ОС iOS. Также можно использовать библиотеки OpenCV, Simple CV или Pygame для обработки изображений с общедоступных камер видеонаблюдения (например, https://www.earthcam.com/).\n",
    "Пример использования библиотеки TensorFlow на смартфоне можете воспользоваться демонстрационным приложением от Google (https://github.com/tensorflow/tensorflow/tree/master/tensorflow/examples/ios).\n"
   ]
  },
  {
   "cell_type": "code",
   "execution_count": 0,
   "metadata": {
    "colab": {},
    "colab_type": "code",
    "id": "JgTVNCTs3ajA"
   },
   "outputs": [],
   "source": [
    "googleModel.save('/content/drive/My Drive/Collab Data/NumbersModel.h5')"
   ]
  },
  {
   "cell_type": "code",
   "execution_count": 16,
   "metadata": {
    "colab": {
     "base_uri": "https://localhost:8080/",
     "height": 62
    },
    "colab_type": "code",
    "id": "vljULBxLIYUH",
    "outputId": "d03a4156-21e2-4305-84d9-0225b6090261"
   },
   "outputs": [
    {
     "name": "stdout",
     "output_type": "stream",
     "text": [
      "INFO:tensorflow:Froze 24 variables.\n",
      "INFO:tensorflow:Converted 24 variables to const ops.\n"
     ]
    }
   ],
   "source": [
    "converter = tf.lite.TFLiteConverter.from_keras_model_file('/content/drive/My Drive/Collab Data/NumbersModel.h5') \n",
    "model = converter.convert()\n",
    "file = open('NumbersModel.tflite' , 'wb') \n",
    "file.write(model)\n",
    "files.download('NumbersModel.tflite')"
   ]
  },
  {
   "cell_type": "markdown",
   "metadata": {
    "colab_type": "text",
    "id": "LsP2ZbCeo66u"
   },
   "source": [
    "**Задание 4.**\n",
    "Реализуйте приложение для ОС iOS, которое может распознавать цифры в номерах домов, используя разработанный ранее классификатор. Какова доля правильных классификаций?\n"
   ]
  }
 ],
 "metadata": {
  "accelerator": "GPU",
  "colab": {
   "machine_shape": "hm",
   "name": "Lab 4.ipynb",
   "provenance": [],
   "toc_visible": true
  },
  "kernelspec": {
   "display_name": "Python 3",
   "language": "python",
   "name": "python3"
  },
  "language_info": {
   "codemirror_mode": {
    "name": "ipython",
    "version": 3
   },
   "file_extension": ".py",
   "mimetype": "text/x-python",
   "name": "python",
   "nbconvert_exporter": "python",
   "pygments_lexer": "ipython3",
   "version": "3.8.0"
  }
 },
 "nbformat": 4,
 "nbformat_minor": 1
}
