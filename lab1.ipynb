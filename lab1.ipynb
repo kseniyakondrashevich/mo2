{
 "cells": [
  {
   "cell_type": "code",
   "execution_count": 2,
   "metadata": {},
   "outputs": [],
   "source": [
    "import os\n",
    "import cv2\n",
    "import numpy as np\n",
    "import random\n",
    "import matplotlib.pyplot as plt\n",
    "import matplotlib.image as mpimg\n",
    "from skimage import io\n",
    "from tqdm import tqdm\n",
    "from hashlib import md5"
   ]
  },
  {
   "cell_type": "code",
   "execution_count": 3,
   "metadata": {},
   "outputs": [
    {
     "name": "stderr",
     "output_type": "stream",
     "text": [
      "100%|██████████████████████████████████████████| 10/10 [12:50<00:00, 77.00s/it]\n",
      "0it [00:00, ?it/s]\n",
      "0it [00:00, ?it/s]\n",
      "0it [00:00, ?it/s]\n",
      "0it [00:00, ?it/s]\n",
      "0it [00:00, ?it/s]\n",
      "0it [00:00, ?it/s]\n",
      "0it [00:00, ?it/s]\n",
      "0it [00:00, ?it/s]\n",
      "0it [00:00, ?it/s]\n",
      "0it [00:00, ?it/s]\n"
     ]
    }
   ],
   "source": [
    "PATH = 'data/notMNIST_large'\n",
    "CLASSES = ['A', 'B', 'C', 'D', 'E', 'F', 'G', 'H', 'I', 'J']\n",
    "\n",
    "dataset = {}\n",
    "for root, dirs, files in os.walk(PATH):\n",
    "    for subdir in tqdm(dirs):\n",
    "        dataset[subdir] = os.listdir(os.path.join(root, subdir))\n",
    "        "
   ]
  },
  {
   "cell_type": "code",
   "execution_count": 8,
   "metadata": {},
   "outputs": [
    {
     "data": {
      "image/png": "[encoded data removed]",
      "text/plain": [
       "<Figure size 1800x1800 with 10 Axes>"
      ]
     },
     "metadata": {
      "needs_background": "light"
     },
     "output_type": "display_data"
    }
   ],
   "source": [
    "# Задание 1.\n",
    "# Загрузите данные и отобразите на экране несколько\n",
    "# из изображений с помощью языка Python\n",
    "\n",
    "fig, axs = plt.subplots(1, len(CLASSES), figsize=(25, 25))\n",
    "axs = axs.ravel()\n",
    "\n",
    "for i in range(len(CLASSES)):\n",
    "    axis = axs[i]\n",
    "    class_name = CLASSES[i]\n",
    "    file_list = dataset[class_name]\n",
    "    file_index = random.randint(0, len(file_list) - 1)\n",
    "    file_name = file_list[file_index]\n",
    "    img = cv2.imread(os.path.join(PATH, class_name, file_name), cv2.IMREAD_GRAYSCALE)\n",
    "    axis.axis('off')\n",
    "    axis.imshow(img)\n",
    "    "
   ]
  },
  {
   "cell_type": "code",
   "execution_count": 9,
   "metadata": {},
   "outputs": [
    {
     "name": "stdout",
     "output_type": "stream",
     "text": [
      "52911\n",
      "52912\n"
     ]
    }
   ],
   "source": [
    "# Задание 2.\n",
    "# Проверьте, что классы являются сбалансированными, \n",
    "# т.е. количество изображений, принадлежащих каждому из классов, \n",
    "# примерно одинаково (В данной задаче 10 классов).\n",
    "\n",
    "count_list = []\n",
    "for class_name in dataset:\n",
    "    count_list.append(len(dataset[class_name]))\n",
    "\n",
    "print(min(count_list))\n",
    "print(max(count_list))"
   ]
  },
  {
   "cell_type": "code",
   "execution_count": 11,
   "metadata": {},
   "outputs": [],
   "source": [
    "# Задание 3.\n",
    "# Разделите данные на три подвыборки: обучающую (200 тыс. изображений),\n",
    "# валидационную (10 тыс. изображений) и контрольную (тестовую) (19 тыс. изображений)\n",
    "\n",
    "TRAIN_SIZE = int(200000 / len(CLASSES))\n",
    "VALIDATION_SIZE = int(10000 / len(CLASSES))\n",
    "TEST_SIZE = int(19000 / len(CLASSES))\n",
    "\n",
    "train_data = {}\n",
    "validation_data = {}\n",
    "test_data = {}\n",
    "\n",
    "for i in range(len(CLASSES)):\n",
    "    key = CLASSES[i]\n",
    "    class_list = dataset[key]\n",
    "    random.shuffle(class_list)\n",
    "    train_data[i] = class_list[:TRAIN_SIZE]\n",
    "    validation_range = TRAIN_SIZE + VALIDATION_SIZE\n",
    "    test_range = validation_range + TEST_SIZE\n",
    "    validation_data[i] = class_list[TRAIN_SIZE:validation_range]\n",
    "    test_data[i] = class_list[validation_range:test_range]  "
   ]
  },
  {
   "cell_type": "code",
   "execution_count": 18,
   "metadata": {},
   "outputs": [
    {
     "name": "stderr",
     "output_type": "stream",
     "text": [
      " 10%|████▎                                      | 1/10 [00:55<08:18, 55.34s/it]"
     ]
    },
    {
     "name": "stdout",
     "output_type": "stream",
     "text": [
      "duplicates in A deleted: 1231\n"
     ]
    },
    {
     "name": "stderr",
     "output_type": "stream",
     "text": [
      "\r",
      " 20%|████████▌                                  | 2/10 [02:55<09:58, 74.78s/it]"
     ]
    },
    {
     "name": "stdout",
     "output_type": "stream",
     "text": [
      "duplicates in B deleted: 1211\n"
     ]
    },
    {
     "name": "stderr",
     "output_type": "stream",
     "text": [
      "\r",
      " 30%|████████████▉                              | 3/10 [03:53<08:08, 69.84s/it]"
     ]
    },
    {
     "name": "stdout",
     "output_type": "stream",
     "text": [
      "duplicates in C deleted: 1294\n"
     ]
    },
    {
     "name": "stderr",
     "output_type": "stream",
     "text": [
      "\r",
      " 40%|█████████████████▏                         | 4/10 [05:15<07:20, 73.35s/it]"
     ]
    },
    {
     "name": "stdout",
     "output_type": "stream",
     "text": [
      "duplicates in D deleted: 1337\n"
     ]
    },
    {
     "name": "stderr",
     "output_type": "stream",
     "text": [
      "\r",
      " 50%|█████████████████████▌                     | 5/10 [06:24<06:00, 72.13s/it]"
     ]
    },
    {
     "name": "stdout",
     "output_type": "stream",
     "text": [
      "duplicates in E deleted: 1254\n"
     ]
    },
    {
     "name": "stderr",
     "output_type": "stream",
     "text": [
      "\r",
      " 60%|█████████████████████████▊                 | 6/10 [07:24<04:33, 68.47s/it]"
     ]
    },
    {
     "name": "stdout",
     "output_type": "stream",
     "text": [
      "duplicates in F deleted: 1324\n"
     ]
    },
    {
     "name": "stderr",
     "output_type": "stream",
     "text": [
      "\r",
      " 70%|██████████████████████████████             | 7/10 [09:10<03:59, 79.81s/it]"
     ]
    },
    {
     "name": "stdout",
     "output_type": "stream",
     "text": [
      "duplicates in G deleted: 1225\n"
     ]
    },
    {
     "name": "stderr",
     "output_type": "stream",
     "text": [
      "\r",
      " 80%|██████████████████████████████████▍        | 8/10 [10:21<02:34, 77.06s/it]"
     ]
    },
    {
     "name": "stdout",
     "output_type": "stream",
     "text": [
      "duplicates in H deleted: 1454\n"
     ]
    },
    {
     "name": "stderr",
     "output_type": "stream",
     "text": [
      "\r",
      " 90%|██████████████████████████████████████▋    | 9/10 [11:03<01:06, 66.59s/it]"
     ]
    },
    {
     "name": "stdout",
     "output_type": "stream",
     "text": [
      "duplicates in I deleted: 3526\n"
     ]
    },
    {
     "name": "stderr",
     "output_type": "stream",
     "text": [
      "100%|██████████████████████████████████████████| 10/10 [11:41<00:00, 70.17s/it]"
     ]
    },
    {
     "name": "stdout",
     "output_type": "stream",
     "text": [
      "duplicates in J deleted: 1346\n"
     ]
    },
    {
     "name": "stderr",
     "output_type": "stream",
     "text": [
      "\n"
     ]
    }
   ],
   "source": [
    "# Задание 4. \n",
    "# Проверьте, что данные из обучающей выборки не пересекаются\n",
    "# с данными из валидационной и контрольной выборок.\n",
    "# Другими словами, избавьтесь от дубликатов в обучающей выборке.\n",
    "\n",
    "def getImageHash(file_name, subdir):\n",
    "    hash_md5 = md5()\n",
    "    path = os.path.join(PATH, subdir, file_name)\n",
    "    with open(path, \"rb\") as f:\n",
    "        for chunk in iter(lambda: f.read(4096), b\"\"):\n",
    "            hash_md5.update(chunk)\n",
    "    return hash_md5.hexdigest()\n",
    "\n",
    "def removeDuplicates(dataset, valid_set, test_set, subdir):\n",
    "    duplicates = 0\n",
    "    hash_keys = {}\n",
    "    result = {}\n",
    "    for file_name in valid_set + test_set:\n",
    "        file_hash = getImageHash(file_name, subdir)\n",
    "        if file_hash not in hash_keys:\n",
    "            hash_keys[file_hash] = file_name\n",
    "    \n",
    "    for file_name in dataset:\n",
    "        file_hash = getImageHash(file_name, subdir)\n",
    "        if file_hash not in hash_keys and file_hash not in result:\n",
    "            result[file_hash] = file_name\n",
    "        else:\n",
    "            duplicates += 1\n",
    "            \n",
    "    print('duplicates in ' + subdir + ' deleted: ' + str(duplicates))\n",
    "    return list(result.values())\n",
    "\n",
    "for i in tqdm(range(len(CLASSES))):\n",
    "    train_data[i] = removeDuplicates(train_data[i], validation_data[i], test_data[i], CLASSES[i])"
   ]
  },
  {
   "cell_type": "code",
   "execution_count": 20,
   "metadata": {},
   "outputs": [
    {
     "name": "stderr",
     "output_type": "stream",
     "text": [
      "\r",
      "  0%|                                                   | 0/10 [00:00<?, ?it/s]"
     ]
    },
    {
     "name": "stdout",
     "output_type": "stream",
     "text": [
      "Can't load file RnJlaWdodERpc3BCb29rSXRhbGljLnR0Zg==.png\n",
      "Can't load file SG90IE11c3RhcmQgQlROIFBvc3Rlci50dGY=.png\n"
     ]
    },
    {
     "name": "stderr",
     "output_type": "stream",
     "text": [
      "\r",
      " 10%|████▏                                     | 1/10 [02:34<23:07, 154.19s/it]"
     ]
    },
    {
     "name": "stdout",
     "output_type": "stream",
     "text": [
      "Can't load file TmlraXNFRi1TZW1pQm9sZEl0YWxpYy5vdGY=.png\n"
     ]
    },
    {
     "name": "stderr",
     "output_type": "stream",
     "text": [
      "100%|██████████████████████████████████████| 10/10 [3:18:50<00:00, 1193.09s/it]\n"
     ]
    },
    {
     "name": "stdout",
     "output_type": "stream",
     "text": [
      "Train: (184795, 784) (184795,)\n"
     ]
    },
    {
     "name": "stderr",
     "output_type": "stream",
     "text": [
      "100%|██████████████████████████████████████████| 10/10 [04:12<00:00, 25.28s/it]\n",
      "  0%|                                                   | 0/10 [00:00<?, ?it/s]"
     ]
    },
    {
     "name": "stdout",
     "output_type": "stream",
     "text": [
      "Validation: (10000, 784) (10000,)\n"
     ]
    },
    {
     "name": "stderr",
     "output_type": "stream",
     "text": [
      "100%|██████████████████████████████████████████| 10/10 [07:02<00:00, 42.30s/it]"
     ]
    },
    {
     "name": "stdout",
     "output_type": "stream",
     "text": [
      "Test: (19000, 784) (19000,)\n"
     ]
    },
    {
     "name": "stderr",
     "output_type": "stream",
     "text": [
      "\n"
     ]
    }
   ],
   "source": [
    "# Задание 5.\n",
    "# Постройте простейший классификатор (например, с помощью логистической регрессии).\n",
    "# Постройте график зависимости точности классификатора от размера обучающей выборки (50, 100, 1000, 50000). \n",
    "# Для построения классификатора можете использовать библиотеку SkLearn (http://scikit-learn.org).\n",
    "\n",
    "IMG_WIDTH = 28\n",
    "IMG_HEIGHT = 28\n",
    "\n",
    "def convertToLearnData(dataset):\n",
    "    missing_images = 0\n",
    "    y = np.zeros(0)\n",
    "    x = np.zeros(0)\n",
    "\n",
    "    for key in tqdm(dataset):\n",
    "        for file_name in dataset[key]:\n",
    "            img = cv2.imread(os.path.join(PATH, CLASSES[key], file_name), cv2.IMREAD_GRAYSCALE)\n",
    "            if img is not None:\n",
    "                img = cv2.normalize(img, None, alpha=0, beta=1, norm_type=cv2.NORM_MINMAX)\n",
    "                img = img.reshape(1, IMG_WIDTH * IMG_HEIGHT)\n",
    "                if len(x) > 0 and len(y) > 0:\n",
    "                    x = np.append(x, img, axis=0)\n",
    "                    y = np.append(y, key)\n",
    "                else:\n",
    "                    x = img\n",
    "                    y = np.array([key])\n",
    "            else:\n",
    "                print(\"Can't load file \" + file_name)\n",
    "                missing_images += 1\n",
    "    return x, y\n",
    "\n",
    "trainX, trainY = convertToLearnData(train_data)\n",
    "print(\"Train:\", trainX.shape, trainY.shape)\n",
    "\n",
    "validationX, validationY = convertToLearnData(validation_data)\n",
    "print(\"Validation:\", validationX.shape, validationY.shape)\n",
    "\n",
    "testX, testY = convertToLearnData(test_data)\n",
    "print(\"Test:\", testX.shape, testY.shape)"
   ]
  },
  {
   "cell_type": "code",
   "execution_count": 47,
   "metadata": {},
   "outputs": [
    {
     "name": "stderr",
     "output_type": "stream",
     "text": [
      "100%|█████████████████████████████████████████| 10/10 [00:00<00:00, 356.90it/s]\n",
      "100%|██████████████████████████████████████████| 10/10 [00:00<00:00, 97.03it/s]\n",
      "100%|██████████████████████████████████████████| 10/10 [02:43<00:00, 16.38s/it]\n",
      "  0%|                                                   | 0/10 [00:00<?, ?it/s]"
     ]
    },
    {
     "name": "stdout",
     "output_type": "stream",
     "text": [
      "Can't load file RnJlaWdodERpc3BCb29rSXRhbGljLnR0Zg==.png\n"
     ]
    },
    {
     "name": "stderr",
     "output_type": "stream",
     "text": [
      "100%|███████████████████████████████████████| 10/10 [1:26:02<00:00, 516.28s/it]\n"
     ]
    }
   ],
   "source": [
    "from sklearn.linear_model import LogisticRegression\n",
    "from sklearn.multiclass import OneVsRestClassifier\n",
    "\n",
    "TRAIN_SIZES = [5, 10, 100, 5000]\n",
    "\n",
    "valid_scores = []\n",
    "test_scores = []\n",
    "for train_size in TRAIN_SIZES:\n",
    "    newData = {}\n",
    "    for key in train_data:\n",
    "        newData[key] = train_data[key][:train_size]\n",
    "    newTrainX, newTrainY = convertToLearnData(newData)\n",
    "        \n",
    "    model = LogisticRegression(random_state=0, max_iter=1000).fit(newTrainX, newTrainY)\n",
    "    valid_scores.append(model.score(validationX, validationY))\n",
    "    test_scores.append(model.score(testX, testY))"
   ]
  },
  {
   "cell_type": "code",
   "execution_count": 48,
   "metadata": {},
   "outputs": [
    {
     "data": {
      "text/plain": [
       "[0.5935, 0.6602, 0.7528, 0.7993]"
      ]
     },
     "execution_count": 48,
     "metadata": {},
     "output_type": "execute_result"
    }
   ],
   "source": [
    "valid_scores"
   ]
  }
 ],
 "metadata": {
  "kernelspec": {
   "display_name": "Python 3",
   "language": "python",
   "name": "python3"
  },
  "language_info": {
   "codemirror_mode": {
    "name": "ipython",
    "version": 3
   },
   "file_extension": ".py",
   "mimetype": "text/x-python",
   "name": "python",
   "nbconvert_exporter": "python",
   "pygments_lexer": "ipython3",
   "version": "3.8.0"
  }
 },
 "nbformat": 4,
 "nbformat_minor": 4
}
