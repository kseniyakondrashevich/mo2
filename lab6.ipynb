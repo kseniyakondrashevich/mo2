{
 "cells": [
  {
   "cell_type": "markdown",
   "metadata": {
    "colab_type": "text",
    "id": "xgx3wbJX1ebs"
   },
   "source": [
    "Import libraries"
   ]
  },
  {
   "cell_type": "code",
   "execution_count": 1,
   "metadata": {
    "colab": {
     "base_uri": "https://localhost:8080/",
     "height": 34
    },
    "colab_type": "code",
    "executionInfo": {
     "elapsed": 3272,
     "status": "ok",
     "timestamp": 1581686809356,
     "user": {
      "displayName": "Роман Занько",
      "photoUrl": "",
      "userId": "06556604840069702412"
     },
     "user_tz": -180
    },
    "id": "F9L-Q63a1VG-",
    "outputId": "f2847c37-b92c-40ed-ea37-e33dd29d0c11"
   },
   "outputs": [
    {
     "name": "stdout",
     "output_type": "stream",
     "text": [
      "TensorFlow 2.x selected.\n"
     ]
    }
   ],
   "source": [
    "%tensorflow_version 2.x\n",
    "import tensorflow as tf\n",
    "import zipfile as zip\n",
    "import numpy as np\n",
    "from sklearn.model_selection import train_test_split\n",
    "import matplotlib.pyplot as plt"
   ]
  },
  {
   "cell_type": "markdown",
   "metadata": {
    "colab_type": "text",
    "id": "KUdeBy8F1srL"
   },
   "source": [
    "Define constants"
   ]
  },
  {
   "cell_type": "code",
   "execution_count": 0,
   "metadata": {
    "colab": {},
    "colab_type": "code",
    "id": "y5IBim1c1tY7"
   },
   "outputs": [],
   "source": [
    "IMAGE_WIDTH=28\n",
    "IMAGE_HEIGHT=28\n",
    "IMAGE_CHANNELS=1\n",
    "BATCH_SIZE=32\n",
    "EPOCHS=30"
   ]
  },
  {
   "cell_type": "markdown",
   "metadata": {
    "colab_type": "text",
    "id": "vWzZoMsQ1vB8"
   },
   "source": [
    "Unzip file"
   ]
  },
  {
   "cell_type": "code",
   "execution_count": 0,
   "metadata": {
    "colab": {},
    "colab_type": "code",
    "id": "O2xWyrlN13Gb"
   },
   "outputs": [],
   "source": [
    "with zip.ZipFile(\"/content/drive/My Drive/Colab Notebooks/storage/sign-language-mnist.zip\") as zip_file:\n",
    "    zip_file.extractall(\"/content/drive/My Drive/Colab Notebooks/storage/sign-language-mnist\")"
   ]
  },
  {
   "cell_type": "markdown",
   "metadata": {
    "colab_type": "text",
    "id": "NlZlBHUK4YlV"
   },
   "source": [
    "Prapere training data"
   ]
  },
  {
   "cell_type": "code",
   "execution_count": 0,
   "metadata": {
    "colab": {},
    "colab_type": "code",
    "id": "f1mw_RAtVCJp"
   },
   "outputs": [],
   "source": [
    "def read_dataset(path):\n",
    "    dataset=np.genfromtxt(path,delimiter=\",\",skip_header=1)\n",
    "\n",
    "    split_result=np.split(dataset, [1], axis=1)\n",
    "    Y=split_result[0]\n",
    "    X=split_result[1]    \n",
    "    return X,Y"
   ]
  },
  {
   "cell_type": "code",
   "execution_count": 0,
   "metadata": {
    "colab": {},
    "colab_type": "code",
    "id": "QvhvniVQ8QWV"
   },
   "outputs": [],
   "source": [
    "X,Y=read_dataset(\"/content/drive/My Drive/Colab Notebooks/storage/sign-language-mnist/sign_mnist_train.csv\")"
   ]
  },
  {
   "cell_type": "code",
   "execution_count": 0,
   "metadata": {
    "colab": {},
    "colab_type": "code",
    "id": "hg5g6VvP-R1z"
   },
   "outputs": [],
   "source": [
    "X_train, X_valid, Y_train, Y_valid=train_test_split(X, Y, test_size=0.2, random_state=42)\n",
    "X_train=X_train.reshape((-1,IMAGE_WIDTH,IMAGE_HEIGHT))\n",
    "X_valid=X_valid.reshape((-1,IMAGE_WIDTH,IMAGE_HEIGHT))\n",
    "X_train=X_train/255\n",
    "X_valid=X_valid/255"
   ]
  },
  {
   "cell_type": "code",
   "execution_count": 0,
   "metadata": {
    "colab": {},
    "colab_type": "code",
    "id": "aNXnqejwxXB3"
   },
   "outputs": [],
   "source": [
    "X_gray_train=X_train.reshape((-1,IMAGE_WIDTH,IMAGE_HEIGHT,IMAGE_CHANNELS))\n",
    "X_gray_valid=X_valid.reshape((-1,IMAGE_WIDTH,IMAGE_HEIGHT,IMAGE_CHANNELS))"
   ]
  },
  {
   "cell_type": "code",
   "execution_count": 7,
   "metadata": {
    "colab": {
     "base_uri": "https://localhost:8080/",
     "height": 85
    },
    "colab_type": "code",
    "executionInfo": {
     "elapsed": 2527,
     "status": "ok",
     "timestamp": 1581686870391,
     "user": {
      "displayName": "Роман Занько",
      "photoUrl": "",
      "userId": "06556604840069702412"
     },
     "user_tz": -180
    },
    "id": "tuosaCHBxnm1",
    "outputId": "6a41e200-7fb6-4b91-ea74-2c6c9f6a34b3"
   },
   "outputs": [
    {
     "name": "stdout",
     "output_type": "stream",
     "text": [
      "(21964, 28, 28, 1)\n",
      "(5491, 28, 28, 1)\n",
      "(21964, 1)\n",
      "(5491, 1)\n"
     ]
    }
   ],
   "source": [
    "print(X_gray_train.shape)\n",
    "print(X_gray_valid.shape)\n",
    "print(Y_train.shape)\n",
    "print(Y_valid.shape)"
   ]
  },
  {
   "cell_type": "code",
   "execution_count": 0,
   "metadata": {
    "colab": {},
    "colab_type": "code",
    "id": "iS64je2UjW1s"
   },
   "outputs": [],
   "source": [
    "def show_batch(image_batch,label_batch):    \n",
    "    plt.style.use('grayscale')\n",
    "    plt.figure(figsize=(10,10))\n",
    "    for n in range(BATCH_SIZE):\n",
    "        ax = plt.subplot(4,8,n+1)\n",
    "        plt.imshow(image_batch[n])\n",
    "        plt.title(label_batch[n])\n",
    "        plt.axis('off')"
   ]
  },
  {
   "cell_type": "code",
   "execution_count": 9,
   "metadata": {
    "colab": {
     "base_uri": "https://localhost:8080/",
     "height": 586
    },
    "colab_type": "code",
    "executionInfo": {
     "elapsed": 2502,
     "status": "ok",
     "timestamp": 1581686881300,
     "user": {
      "displayName": "Роман Занько",
      "photoUrl": "",
      "userId": "06556604840069702412"
     },
     "user_tz": -180
    },
    "id": "c2-6yX-hkvoH",
    "outputId": "5b3b5816-b248-494e-d029-ddc173980645"
   },
   "outputs": [
    {
     "name": "stderr",
     "output_type": "stream",
     "text": [
      "/usr/local/lib/python3.6/dist-packages/matplotlib/text.py:1150: FutureWarning: elementwise comparison failed; returning scalar instead, but in the future will perform elementwise comparison\n",
      "  if s != self._text:\n"
     ]
    },
    {
     "data": {
      "image/png": "[encoded data removed]",
      "text/plain": [
       "<Figure size 720x720 with 32 Axes>"
      ]
     },
     "metadata": {
      "tags": []
     },
     "output_type": "display_data"
    }
   ],
   "source": [
    "show_batch(X_gray_train[:BATCH_SIZE,:,:,:].reshape(-1,IMAGE_HEIGHT,IMAGE_WIDTH), Y_train[:BATCH_SIZE])"
   ]
  },
  {
   "cell_type": "markdown",
   "metadata": {
    "colab_type": "text",
    "id": "UjS4Y92z-0GE"
   },
   "source": [
    "Create model"
   ]
  },
  {
   "cell_type": "code",
   "execution_count": 0,
   "metadata": {
    "colab": {},
    "colab_type": "code",
    "id": "Ic65FsA--02a"
   },
   "outputs": [],
   "source": [
    "model=tf.keras.models.Sequential([\n",
    "    tf.keras.layers.Conv2D(8,(3,3),activation='relu',input_shape=(IMAGE_WIDTH, IMAGE_HEIGHT, IMAGE_CHANNELS)),\n",
    "    tf.keras.layers.AveragePooling2D(),\n",
    "\n",
    "    tf.keras.layers.Conv2D(16,(3,3),activation='relu'),\n",
    "    tf.keras.layers.Dropout(0.2),\n",
    "    tf.keras.layers.AveragePooling2D(),\n",
    "\n",
    "    tf.keras.layers.Conv2D(32,(3,3),activation='relu'),\n",
    "    tf.keras.layers.Dropout(0.2),\n",
    "    tf.keras.layers.AveragePooling2D(),\n",
    "\n",
    "    tf.keras.layers.Flatten(),        \n",
    "    tf.keras.layers.Dense(128, activation='relu'),\n",
    "    tf.keras.layers.Dense(25, activation='softmax')\n",
    "])\n",
    "\n",
    "model.compile(optimizer='adam',\n",
    "    loss='sparse_categorical_crossentropy',\n",
    "    metrics=['accuracy'])"
   ]
  },
  {
   "cell_type": "markdown",
   "metadata": {
    "colab_type": "text",
    "id": "TNVazKibHwIJ"
   },
   "source": [
    "Fit model"
   ]
  },
  {
   "cell_type": "code",
   "execution_count": 11,
   "metadata": {
    "colab": {
     "base_uri": "https://localhost:8080/",
     "height": 1000
    },
    "colab_type": "code",
    "executionInfo": {
     "elapsed": 85881,
     "status": "ok",
     "timestamp": 1581686981274,
     "user": {
      "displayName": "Роман Занько",
      "photoUrl": "",
      "userId": "06556604840069702412"
     },
     "user_tz": -180
    },
    "id": "kQd90x4NHw9I",
    "outputId": "20ded235-b0c4-4377-ec3a-38b92995e77a"
   },
   "outputs": [
    {
     "name": "stdout",
     "output_type": "stream",
     "text": [
      "Train on 21964 samples, validate on 5491 samples\n",
      "Epoch 1/30\n",
      "21964/21964 [==============================] - 6s 258us/sample - loss: 2.5470 - accuracy: 0.2016 - val_loss: 1.9091 - val_accuracy: 0.3755\n",
      "Epoch 2/30\n",
      "21964/21964 [==============================] - 3s 123us/sample - loss: 1.7172 - accuracy: 0.4287 - val_loss: 1.3378 - val_accuracy: 0.5449\n",
      "Epoch 3/30\n",
      "21964/21964 [==============================] - 3s 122us/sample - loss: 1.3517 - accuracy: 0.5326 - val_loss: 1.1367 - val_accuracy: 0.6083\n",
      "Epoch 4/30\n",
      "21964/21964 [==============================] - 3s 122us/sample - loss: 1.1065 - accuracy: 0.6073 - val_loss: 0.8319 - val_accuracy: 0.7195\n",
      "Epoch 5/30\n",
      "21964/21964 [==============================] - 3s 125us/sample - loss: 0.9171 - accuracy: 0.6714 - val_loss: 0.6355 - val_accuracy: 0.7713\n",
      "Epoch 6/30\n",
      "21964/21964 [==============================] - 3s 124us/sample - loss: 0.7829 - accuracy: 0.7176 - val_loss: 0.4948 - val_accuracy: 0.8443\n",
      "Epoch 7/30\n",
      "21964/21964 [==============================] - 3s 125us/sample - loss: 0.6693 - accuracy: 0.7593 - val_loss: 0.4215 - val_accuracy: 0.8578\n",
      "Epoch 8/30\n",
      "21964/21964 [==============================] - 3s 125us/sample - loss: 0.5921 - accuracy: 0.7882 - val_loss: 0.3860 - val_accuracy: 0.8805\n",
      "Epoch 9/30\n",
      "21964/21964 [==============================] - 3s 126us/sample - loss: 0.5313 - accuracy: 0.8089 - val_loss: 0.2705 - val_accuracy: 0.9215\n",
      "Epoch 10/30\n",
      "21964/21964 [==============================] - 3s 123us/sample - loss: 0.4638 - accuracy: 0.8330 - val_loss: 0.2382 - val_accuracy: 0.9337\n",
      "Epoch 11/30\n",
      "21964/21964 [==============================] - 3s 127us/sample - loss: 0.4267 - accuracy: 0.8466 - val_loss: 0.2088 - val_accuracy: 0.9363\n",
      "Epoch 12/30\n",
      "21964/21964 [==============================] - 3s 123us/sample - loss: 0.3866 - accuracy: 0.8617 - val_loss: 0.1680 - val_accuracy: 0.9557\n",
      "Epoch 13/30\n",
      "21964/21964 [==============================] - 3s 126us/sample - loss: 0.3506 - accuracy: 0.8753 - val_loss: 0.1647 - val_accuracy: 0.9541\n",
      "Epoch 14/30\n",
      "21964/21964 [==============================] - 3s 126us/sample - loss: 0.3276 - accuracy: 0.8816 - val_loss: 0.1288 - val_accuracy: 0.9639\n",
      "Epoch 15/30\n",
      "21964/21964 [==============================] - 3s 123us/sample - loss: 0.3007 - accuracy: 0.8930 - val_loss: 0.1018 - val_accuracy: 0.9749\n",
      "Epoch 16/30\n",
      "21964/21964 [==============================] - 3s 123us/sample - loss: 0.2829 - accuracy: 0.9002 - val_loss: 0.0931 - val_accuracy: 0.9789\n",
      "Epoch 17/30\n",
      "21964/21964 [==============================] - 3s 123us/sample - loss: 0.2646 - accuracy: 0.9049 - val_loss: 0.1062 - val_accuracy: 0.9765\n",
      "Epoch 18/30\n",
      "21964/21964 [==============================] - 3s 126us/sample - loss: 0.2551 - accuracy: 0.9080 - val_loss: 0.1033 - val_accuracy: 0.9707\n",
      "Epoch 19/30\n",
      "21964/21964 [==============================] - 3s 128us/sample - loss: 0.2419 - accuracy: 0.9155 - val_loss: 0.0681 - val_accuracy: 0.9900\n",
      "Epoch 20/30\n",
      "21964/21964 [==============================] - 3s 129us/sample - loss: 0.2182 - accuracy: 0.9216 - val_loss: 0.0716 - val_accuracy: 0.9847\n",
      "Epoch 21/30\n",
      "21964/21964 [==============================] - 3s 129us/sample - loss: 0.2120 - accuracy: 0.9254 - val_loss: 0.0533 - val_accuracy: 0.9913\n",
      "Epoch 22/30\n",
      "21964/21964 [==============================] - 3s 124us/sample - loss: 0.1966 - accuracy: 0.9311 - val_loss: 0.0509 - val_accuracy: 0.9931\n",
      "Epoch 23/30\n",
      "21964/21964 [==============================] - 3s 121us/sample - loss: 0.1915 - accuracy: 0.9334 - val_loss: 0.0477 - val_accuracy: 0.9902\n",
      "Epoch 24/30\n",
      "21964/21964 [==============================] - 3s 123us/sample - loss: 0.1858 - accuracy: 0.9351 - val_loss: 0.0427 - val_accuracy: 0.9927\n",
      "Epoch 25/30\n",
      "21964/21964 [==============================] - 3s 121us/sample - loss: 0.1733 - accuracy: 0.9383 - val_loss: 0.0489 - val_accuracy: 0.9894\n",
      "Epoch 26/30\n",
      "21964/21964 [==============================] - 3s 122us/sample - loss: 0.1696 - accuracy: 0.9400 - val_loss: 0.0395 - val_accuracy: 0.9914\n",
      "Epoch 27/30\n",
      "21964/21964 [==============================] - 3s 122us/sample - loss: 0.1626 - accuracy: 0.9422 - val_loss: 0.0296 - val_accuracy: 0.9947\n",
      "Epoch 28/30\n",
      "21964/21964 [==============================] - 3s 121us/sample - loss: 0.1651 - accuracy: 0.9428 - val_loss: 0.0287 - val_accuracy: 0.9953\n",
      "Epoch 29/30\n",
      "21964/21964 [==============================] - 3s 121us/sample - loss: 0.1544 - accuracy: 0.9463 - val_loss: 0.0394 - val_accuracy: 0.9914\n",
      "Epoch 30/30\n",
      "21964/21964 [==============================] - 3s 126us/sample - loss: 0.1501 - accuracy: 0.9470 - val_loss: 0.0321 - val_accuracy: 0.9940\n"
     ]
    }
   ],
   "source": [
    "history=model.fit(X_gray_train,Y_train,epochs=EPOCHS,validation_data=(X_gray_valid,Y_valid))"
   ]
  },
  {
   "cell_type": "markdown",
   "metadata": {
    "colab_type": "text",
    "id": "BqArDP10URjQ"
   },
   "source": [
    "Prapere testing data"
   ]
  },
  {
   "cell_type": "code",
   "execution_count": 0,
   "metadata": {
    "colab": {},
    "colab_type": "code",
    "id": "_PAgRUJiUSqu"
   },
   "outputs": [],
   "source": [
    "X_test,Y_test=read_dataset(\"/content/drive/My Drive/Colab Notebooks/storage/sign-language-mnist/sign_mnist_test.csv\")\n",
    "X_test=X_test.reshape((-1,IMAGE_WIDTH,IMAGE_HEIGHT))\n",
    "X_test=X_test/255"
   ]
  },
  {
   "cell_type": "code",
   "execution_count": 0,
   "metadata": {
    "colab": {},
    "colab_type": "code",
    "id": "66BpYiVCzcjF"
   },
   "outputs": [],
   "source": [
    "X_gray_test=X_test.reshape((-1,IMAGE_WIDTH,IMAGE_HEIGHT,IMAGE_CHANNELS))"
   ]
  },
  {
   "cell_type": "code",
   "execution_count": 14,
   "metadata": {
    "colab": {
     "base_uri": "https://localhost:8080/",
     "height": 51
    },
    "colab_type": "code",
    "executionInfo": {
     "elapsed": 767,
     "status": "ok",
     "timestamp": 1581687002368,
     "user": {
      "displayName": "Роман Занько",
      "photoUrl": "",
      "userId": "06556604840069702412"
     },
     "user_tz": -180
    },
    "id": "2A0xWU6Hzi6M",
    "outputId": "ac0a8746-3652-4ecb-9dba-0ff799fbc2df"
   },
   "outputs": [
    {
     "name": "stdout",
     "output_type": "stream",
     "text": [
      "(7172, 28, 28, 1)\n",
      "(7172, 1)\n"
     ]
    }
   ],
   "source": [
    "print(X_gray_test.shape)\n",
    "print(Y_test.shape)"
   ]
  },
  {
   "cell_type": "markdown",
   "metadata": {
    "colab_type": "text",
    "id": "rOCUSk2EWQsF"
   },
   "source": [
    "Evaluate model"
   ]
  },
  {
   "cell_type": "code",
   "execution_count": 15,
   "metadata": {
    "colab": {
     "base_uri": "https://localhost:8080/",
     "height": 51
    },
    "colab_type": "code",
    "executionInfo": {
     "elapsed": 2047,
     "status": "ok",
     "timestamp": 1581687008089,
     "user": {
      "displayName": "Роман Занько",
      "photoUrl": "",
      "userId": "06556604840069702412"
     },
     "user_tz": -180
    },
    "id": "aeoatdSFWXtD",
    "outputId": "1a1a2d38-3137-4e3f-be81-81f3b1744161"
   },
   "outputs": [
    {
     "name": "stdout",
     "output_type": "stream",
     "text": [
      "7172/7172 [==============================] - 1s 81us/sample - loss: 0.3278 - accuracy: 0.9031\n"
     ]
    },
    {
     "data": {
      "text/plain": [
       "[0.3278196815201858, 0.90309536]"
      ]
     },
     "execution_count": 15,
     "metadata": {
      "tags": []
     },
     "output_type": "execute_result"
    }
   ],
   "source": [
    "model.evaluate(X_gray_test,Y_test)"
   ]
  },
  {
   "cell_type": "markdown",
   "metadata": {
    "colab_type": "text",
    "id": "AHvvhU-ufKTr"
   },
   "source": [
    "Data augmentation"
   ]
  },
  {
   "cell_type": "code",
   "execution_count": 0,
   "metadata": {
    "colab": {},
    "colab_type": "code",
    "id": "TNlH14tRoASf"
   },
   "outputs": [],
   "source": [
    "img_rotation_generator=tf.keras.preprocessing.image.ImageDataGenerator(rotation_range=90)"
   ]
  },
  {
   "cell_type": "code",
   "execution_count": 0,
   "metadata": {
    "colab": {},
    "colab_type": "code",
    "id": "6C7i6qqNoFsu"
   },
   "outputs": [],
   "source": [
    "np_rotation_iterator=tf.keras.preprocessing.image.NumpyArrayIterator(X_gray_train,Y_train,img_rotation_generator,batch_size=BATCH_SIZE)"
   ]
  },
  {
   "cell_type": "code",
   "execution_count": 18,
   "metadata": {
    "colab": {
     "base_uri": "https://localhost:8080/",
     "height": 586
    },
    "colab_type": "code",
    "executionInfo": {
     "elapsed": 2984,
     "status": "ok",
     "timestamp": 1581687025745,
     "user": {
      "displayName": "Роман Занько",
      "photoUrl": "",
      "userId": "06556604840069702412"
     },
     "user_tz": -180
    },
    "id": "a_roZjwRfR15",
    "outputId": "0ce460f2-579a-403b-af07-bbbe7b6138d0"
   },
   "outputs": [
    {
     "name": "stderr",
     "output_type": "stream",
     "text": [
      "/usr/local/lib/python3.6/dist-packages/matplotlib/text.py:1150: FutureWarning: elementwise comparison failed; returning scalar instead, but in the future will perform elementwise comparison\n",
      "  if s != self._text:\n"
     ]
    },
    {
     "data": {
      "image/png": "[encoded data removed]",
      "text/plain": [
       "<Figure size 720x720 with 32 Axes>"
      ]
     },
     "metadata": {
      "tags": []
     },
     "output_type": "display_data"
    }
   ],
   "source": [
    "image_batch, label_batch = next(np_rotation_iterator)\n",
    "show_batch(image_batch.reshape(-1,IMAGE_HEIGHT,IMAGE_WIDTH), label_batch)"
   ]
  },
  {
   "cell_type": "code",
   "execution_count": 0,
   "metadata": {
    "colab": {},
    "colab_type": "code",
    "id": "T7hjXbrgoMEH"
   },
   "outputs": [],
   "source": [
    "img_shear_generator=tf.keras.preprocessing.image.ImageDataGenerator(shear_range=45.0)"
   ]
  },
  {
   "cell_type": "code",
   "execution_count": 0,
   "metadata": {
    "colab": {},
    "colab_type": "code",
    "id": "XecU4atpoPDf"
   },
   "outputs": [],
   "source": [
    "np_shear_iterator=tf.keras.preprocessing.image.NumpyArrayIterator(X_gray_train,Y_train,img_shear_generator,batch_size=BATCH_SIZE)"
   ]
  },
  {
   "cell_type": "code",
   "execution_count": 21,
   "metadata": {
    "colab": {
     "base_uri": "https://localhost:8080/",
     "height": 586
    },
    "colab_type": "code",
    "executionInfo": {
     "elapsed": 2542,
     "status": "ok",
     "timestamp": 1581687042956,
     "user": {
      "displayName": "Роман Занько",
      "photoUrl": "",
      "userId": "06556604840069702412"
     },
     "user_tz": -180
    },
    "id": "ggUedWlt7b80",
    "outputId": "154b851c-b98c-44a7-ef37-ca8febe6621a"
   },
   "outputs": [
    {
     "name": "stderr",
     "output_type": "stream",
     "text": [
      "/usr/local/lib/python3.6/dist-packages/matplotlib/text.py:1150: FutureWarning: elementwise comparison failed; returning scalar instead, but in the future will perform elementwise comparison\n",
      "  if s != self._text:\n"
     ]
    },
    {
     "data": {
      "image/png": "[encoded data removed]",
      "text/plain": [
       "<Figure size 720x720 with 32 Axes>"
      ]
     },
     "metadata": {
      "tags": []
     },
     "output_type": "display_data"
    }
   ],
   "source": [
    "image_batch, label_batch = next(np_shear_iterator)\n",
    "show_batch(image_batch.reshape(-1,IMAGE_HEIGHT,IMAGE_WIDTH), label_batch)"
   ]
  },
  {
   "cell_type": "markdown",
   "metadata": {
    "colab_type": "text",
    "id": "hDsSrBgA8JJ9"
   },
   "source": [
    "Fit model with data augmentation"
   ]
  },
  {
   "cell_type": "code",
   "execution_count": 22,
   "metadata": {
    "colab": {
     "base_uri": "https://localhost:8080/",
     "height": 1000
    },
    "colab_type": "code",
    "executionInfo": {
     "elapsed": 348383,
     "status": "ok",
     "timestamp": 1581687425369,
     "user": {
      "displayName": "Роман Занько",
      "photoUrl": "",
      "userId": "06556604840069702412"
     },
     "user_tz": -180
    },
    "id": "8WMjXM1U8Sj9",
    "outputId": "5d10285b-551b-4a18-94f0-505292ed3e7d"
   },
   "outputs": [
    {
     "name": "stdout",
     "output_type": "stream",
     "text": [
      "WARNING:tensorflow:sample_weight modes were coerced from\n",
      "  ...\n",
      "    to  \n",
      "  ['...']\n",
      "Train for 687 steps, validate on 5491 samples\n",
      "Epoch 30/59\n",
      "687/687 [==============================] - 6s 9ms/step - loss: 2.4877 - accuracy: 0.2899 - val_loss: 1.2073 - val_accuracy: 0.6527\n",
      "Epoch 31/59\n",
      "687/687 [==============================] - 6s 9ms/step - loss: 1.9190 - accuracy: 0.3911 - val_loss: 0.9170 - val_accuracy: 0.7339\n",
      "Epoch 32/59\n",
      "687/687 [==============================] - 6s 9ms/step - loss: 1.7154 - accuracy: 0.4451 - val_loss: 0.8725 - val_accuracy: 0.7274\n",
      "Epoch 33/59\n",
      "687/687 [==============================] - 6s 9ms/step - loss: 1.5718 - accuracy: 0.4789 - val_loss: 0.8127 - val_accuracy: 0.7276\n",
      "Epoch 34/59\n",
      "687/687 [==============================] - 6s 9ms/step - loss: 1.4785 - accuracy: 0.5030 - val_loss: 0.7349 - val_accuracy: 0.7654\n",
      "Epoch 35/59\n",
      "687/687 [==============================] - 6s 9ms/step - loss: 1.3795 - accuracy: 0.5337 - val_loss: 0.6691 - val_accuracy: 0.7873\n",
      "Epoch 36/59\n",
      "687/687 [==============================] - 6s 9ms/step - loss: 1.3249 - accuracy: 0.5478 - val_loss: 0.6436 - val_accuracy: 0.7811\n",
      "Epoch 37/59\n",
      "687/687 [==============================] - 6s 9ms/step - loss: 1.2443 - accuracy: 0.5771 - val_loss: 0.6426 - val_accuracy: 0.7776\n",
      "Epoch 38/59\n",
      "687/687 [==============================] - 6s 9ms/step - loss: 1.2009 - accuracy: 0.5916 - val_loss: 0.6036 - val_accuracy: 0.7991\n",
      "Epoch 39/59\n",
      "687/687 [==============================] - 6s 9ms/step - loss: 1.1481 - accuracy: 0.6049 - val_loss: 0.5267 - val_accuracy: 0.8317\n",
      "Epoch 40/59\n",
      "687/687 [==============================] - 6s 8ms/step - loss: 1.1118 - accuracy: 0.6214 - val_loss: 0.5727 - val_accuracy: 0.8046\n",
      "Epoch 41/59\n",
      "687/687 [==============================] - 6s 8ms/step - loss: 1.0617 - accuracy: 0.6362 - val_loss: 0.4990 - val_accuracy: 0.8399\n",
      "Epoch 42/59\n",
      "687/687 [==============================] - 6s 8ms/step - loss: 1.0448 - accuracy: 0.6469 - val_loss: 0.5112 - val_accuracy: 0.8250\n",
      "Epoch 43/59\n",
      "687/687 [==============================] - 6s 8ms/step - loss: 1.0067 - accuracy: 0.6539 - val_loss: 0.4596 - val_accuracy: 0.8461\n",
      "Epoch 44/59\n",
      "687/687 [==============================] - 6s 8ms/step - loss: 0.9826 - accuracy: 0.6617 - val_loss: 0.4454 - val_accuracy: 0.8494\n",
      "Epoch 45/59\n",
      "687/687 [==============================] - 6s 8ms/step - loss: 0.9564 - accuracy: 0.6726 - val_loss: 0.4627 - val_accuracy: 0.8319\n",
      "Epoch 46/59\n",
      "687/687 [==============================] - 6s 8ms/step - loss: 0.9406 - accuracy: 0.6770 - val_loss: 0.4368 - val_accuracy: 0.8518\n",
      "Epoch 47/59\n",
      "687/687 [==============================] - 6s 8ms/step - loss: 0.9130 - accuracy: 0.6848 - val_loss: 0.4347 - val_accuracy: 0.8467\n",
      "Epoch 48/59\n",
      "687/687 [==============================] - 6s 8ms/step - loss: 0.9005 - accuracy: 0.6888 - val_loss: 0.4295 - val_accuracy: 0.8543\n",
      "Epoch 49/59\n",
      "687/687 [==============================] - 6s 9ms/step - loss: 0.8783 - accuracy: 0.6983 - val_loss: 0.4404 - val_accuracy: 0.8479\n",
      "Epoch 50/59\n",
      "687/687 [==============================] - 6s 9ms/step - loss: 0.8533 - accuracy: 0.7038 - val_loss: 0.3836 - val_accuracy: 0.8627\n",
      "Epoch 51/59\n",
      "687/687 [==============================] - 6s 8ms/step - loss: 0.8453 - accuracy: 0.7070 - val_loss: 0.3678 - val_accuracy: 0.8742\n",
      "Epoch 52/59\n",
      "687/687 [==============================] - 6s 8ms/step - loss: 0.8233 - accuracy: 0.7119 - val_loss: 0.3661 - val_accuracy: 0.8743\n",
      "Epoch 53/59\n",
      "687/687 [==============================] - 6s 8ms/step - loss: 0.8034 - accuracy: 0.7193 - val_loss: 0.3438 - val_accuracy: 0.8773\n",
      "Epoch 54/59\n",
      "687/687 [==============================] - 6s 9ms/step - loss: 0.7947 - accuracy: 0.7274 - val_loss: 0.3550 - val_accuracy: 0.8734\n",
      "Epoch 55/59\n",
      "687/687 [==============================] - 6s 9ms/step - loss: 0.7944 - accuracy: 0.7226 - val_loss: 0.3395 - val_accuracy: 0.8825\n",
      "Epoch 56/59\n",
      "687/687 [==============================] - 6s 9ms/step - loss: 0.7792 - accuracy: 0.7276 - val_loss: 0.3350 - val_accuracy: 0.8822\n",
      "Epoch 57/59\n",
      "687/687 [==============================] - 6s 9ms/step - loss: 0.7761 - accuracy: 0.7342 - val_loss: 0.3837 - val_accuracy: 0.8570\n",
      "Epoch 58/59\n",
      "687/687 [==============================] - 6s 8ms/step - loss: 0.7579 - accuracy: 0.7373 - val_loss: 0.3729 - val_accuracy: 0.8732\n",
      "Epoch 59/59\n",
      "687/687 [==============================] - 6s 9ms/step - loss: 0.7469 - accuracy: 0.7409 - val_loss: 0.3344 - val_accuracy: 0.8853\n",
      "WARNING:tensorflow:sample_weight modes were coerced from\n",
      "  ...\n",
      "    to  \n",
      "  ['...']\n",
      "Train for 687 steps, validate on 5491 samples\n",
      "Epoch 59/88\n",
      "687/687 [==============================] - 6s 9ms/step - loss: 0.8064 - accuracy: 0.7313 - val_loss: 0.2794 - val_accuracy: 0.9073\n",
      "Epoch 60/88\n",
      "687/687 [==============================] - 6s 8ms/step - loss: 0.6266 - accuracy: 0.7809 - val_loss: 0.2075 - val_accuracy: 0.9375\n",
      "Epoch 61/88\n",
      "687/687 [==============================] - 6s 8ms/step - loss: 0.5522 - accuracy: 0.8074 - val_loss: 0.1673 - val_accuracy: 0.9539\n",
      "Epoch 62/88\n",
      "687/687 [==============================] - 6s 8ms/step - loss: 0.4948 - accuracy: 0.8264 - val_loss: 0.1384 - val_accuracy: 0.9627\n",
      "Epoch 63/88\n",
      "687/687 [==============================] - 6s 8ms/step - loss: 0.4650 - accuracy: 0.8350 - val_loss: 0.1462 - val_accuracy: 0.9579\n",
      "Epoch 64/88\n",
      "687/687 [==============================] - 6s 8ms/step - loss: 0.4423 - accuracy: 0.8464 - val_loss: 0.1267 - val_accuracy: 0.9610\n",
      "Epoch 65/88\n",
      "687/687 [==============================] - 6s 8ms/step - loss: 0.4190 - accuracy: 0.8547 - val_loss: 0.1124 - val_accuracy: 0.9678\n",
      "Epoch 66/88\n",
      "687/687 [==============================] - 6s 8ms/step - loss: 0.3828 - accuracy: 0.8646 - val_loss: 0.0892 - val_accuracy: 0.9801\n",
      "Epoch 67/88\n",
      "687/687 [==============================] - 6s 9ms/step - loss: 0.3753 - accuracy: 0.8688 - val_loss: 0.0925 - val_accuracy: 0.9807\n",
      "Epoch 68/88\n",
      "687/687 [==============================] - 6s 9ms/step - loss: 0.3563 - accuracy: 0.8759 - val_loss: 0.0836 - val_accuracy: 0.9827\n",
      "Epoch 69/88\n",
      "687/687 [==============================] - 6s 9ms/step - loss: 0.3415 - accuracy: 0.8832 - val_loss: 0.0816 - val_accuracy: 0.9789\n",
      "Epoch 70/88\n",
      "687/687 [==============================] - 6s 8ms/step - loss: 0.3339 - accuracy: 0.8821 - val_loss: 0.0764 - val_accuracy: 0.9809\n",
      "Epoch 71/88\n",
      "687/687 [==============================] - 6s 8ms/step - loss: 0.3110 - accuracy: 0.8913 - val_loss: 0.0688 - val_accuracy: 0.9849\n",
      "Epoch 72/88\n",
      "687/687 [==============================] - 6s 9ms/step - loss: 0.3051 - accuracy: 0.8936 - val_loss: 0.0623 - val_accuracy: 0.9878\n",
      "Epoch 73/88\n",
      "687/687 [==============================] - 6s 8ms/step - loss: 0.3001 - accuracy: 0.8955 - val_loss: 0.0581 - val_accuracy: 0.9878\n",
      "Epoch 74/88\n",
      "687/687 [==============================] - 6s 8ms/step - loss: 0.2953 - accuracy: 0.8968 - val_loss: 0.0609 - val_accuracy: 0.9847\n",
      "Epoch 75/88\n",
      "687/687 [==============================] - 6s 8ms/step - loss: 0.2863 - accuracy: 0.8989 - val_loss: 0.0508 - val_accuracy: 0.9909\n",
      "Epoch 76/88\n",
      "687/687 [==============================] - 6s 8ms/step - loss: 0.2695 - accuracy: 0.9054 - val_loss: 0.0578 - val_accuracy: 0.9852\n",
      "Epoch 77/88\n",
      "687/687 [==============================] - 6s 8ms/step - loss: 0.2640 - accuracy: 0.9078 - val_loss: 0.0459 - val_accuracy: 0.9894\n",
      "Epoch 78/88\n",
      "687/687 [==============================] - 6s 8ms/step - loss: 0.2516 - accuracy: 0.9125 - val_loss: 0.0442 - val_accuracy: 0.9929\n",
      "Epoch 79/88\n",
      "687/687 [==============================] - 6s 9ms/step - loss: 0.2554 - accuracy: 0.9102 - val_loss: 0.0483 - val_accuracy: 0.9894\n",
      "Epoch 80/88\n",
      "687/687 [==============================] - 6s 8ms/step - loss: 0.2450 - accuracy: 0.9142 - val_loss: 0.0370 - val_accuracy: 0.9924\n",
      "Epoch 81/88\n",
      "687/687 [==============================] - 6s 8ms/step - loss: 0.2494 - accuracy: 0.9136 - val_loss: 0.0373 - val_accuracy: 0.9936\n",
      "Epoch 82/88\n",
      "687/687 [==============================] - 6s 8ms/step - loss: 0.2433 - accuracy: 0.9160 - val_loss: 0.0395 - val_accuracy: 0.9931\n",
      "Epoch 83/88\n",
      "687/687 [==============================] - 6s 8ms/step - loss: 0.2351 - accuracy: 0.9190 - val_loss: 0.0405 - val_accuracy: 0.9911\n",
      "Epoch 84/88\n",
      "687/687 [==============================] - 6s 8ms/step - loss: 0.2346 - accuracy: 0.9163 - val_loss: 0.0321 - val_accuracy: 0.9945\n",
      "Epoch 85/88\n",
      "687/687 [==============================] - 6s 8ms/step - loss: 0.2298 - accuracy: 0.9218 - val_loss: 0.0348 - val_accuracy: 0.9942\n",
      "Epoch 86/88\n",
      "687/687 [==============================] - 6s 8ms/step - loss: 0.2267 - accuracy: 0.9223 - val_loss: 0.0339 - val_accuracy: 0.9922\n",
      "Epoch 87/88\n",
      "687/687 [==============================] - 6s 8ms/step - loss: 0.2236 - accuracy: 0.9229 - val_loss: 0.0397 - val_accuracy: 0.9927\n",
      "Epoch 88/88\n",
      "687/687 [==============================] - 6s 8ms/step - loss: 0.2114 - accuracy: 0.9266 - val_loss: 0.0267 - val_accuracy: 0.9947\n"
     ]
    },
    {
     "data": {
      "text/plain": [
       "<tensorflow.python.keras.callbacks.History at 0x7f824c39c860>"
      ]
     },
     "execution_count": 22,
     "metadata": {
      "tags": []
     },
     "output_type": "execute_result"
    }
   ],
   "source": [
    "history=model.fit(np_rotation_iterator,epochs=history.epoch[-1]+EPOCHS,validation_data=(X_gray_valid,Y_valid),initial_epoch=history.epoch[-1])\n",
    "model.fit(np_shear_iterator,epochs=history.epoch[-1]+EPOCHS,validation_data=(X_gray_valid,Y_valid),initial_epoch=history.epoch[-1])"
   ]
  },
  {
   "cell_type": "markdown",
   "metadata": {
    "colab_type": "text",
    "id": "n-6y6LEP1n49"
   },
   "source": [
    "Evaluate model after training on augmentation data"
   ]
  },
  {
   "cell_type": "code",
   "execution_count": 23,
   "metadata": {
    "colab": {
     "base_uri": "https://localhost:8080/",
     "height": 51
    },
    "colab_type": "code",
    "executionInfo": {
     "elapsed": 2015,
     "status": "ok",
     "timestamp": 1581687430727,
     "user": {
      "displayName": "Роман Занько",
      "photoUrl": "",
      "userId": "06556604840069702412"
     },
     "user_tz": -180
    },
    "id": "NJv2PW4Y-ADC",
    "outputId": "59e6cacb-ed5e-4e96-9574-609598b2b26a"
   },
   "outputs": [
    {
     "name": "stdout",
     "output_type": "stream",
     "text": [
      "7172/7172 [==============================] - 0s 65us/sample - loss: 0.1858 - accuracy: 0.9414\n"
     ]
    },
    {
     "data": {
      "text/plain": [
       "[0.1858260271955454, 0.9414389]"
      ]
     },
     "execution_count": 23,
     "metadata": {
      "tags": []
     },
     "output_type": "execute_result"
    }
   ],
   "source": [
    "model.evaluate(X_gray_test,Y_test)"
   ]
  },
  {
   "cell_type": "markdown",
   "metadata": {
    "colab_type": "text",
    "id": "bqgS7jkEgA4R"
   },
   "source": [
    "Redefine constants"
   ]
  },
  {
   "cell_type": "code",
   "execution_count": 0,
   "metadata": {
    "colab": {},
    "colab_type": "code",
    "id": "llfWob9JgENK"
   },
   "outputs": [],
   "source": [
    "IMAGE_WIDTH=32\n",
    "IMAGE_HEIGHT=32\n",
    "IMAGE_CHANNELS=3"
   ]
  },
  {
   "cell_type": "markdown",
   "metadata": {
    "colab_type": "text",
    "id": "bR99cqcEVRMc"
   },
   "source": [
    "Create pretrained VGG16"
   ]
  },
  {
   "cell_type": "code",
   "execution_count": 0,
   "metadata": {
    "colab": {},
    "colab_type": "code",
    "id": "didhChHgVbCM"
   },
   "outputs": [],
   "source": [
    "base_model=tf.keras.applications.VGG16(\n",
    "    input_shape=(IMAGE_WIDTH,IMAGE_HEIGHT,IMAGE_CHANNELS),\n",
    "    include_top=False,\n",
    "    weights='imagenet'\n",
    ")\n",
    "base_model.trainable = False"
   ]
  },
  {
   "cell_type": "code",
   "execution_count": 0,
   "metadata": {
    "colab": {},
    "colab_type": "code",
    "id": "iAxJdLKGZU4M"
   },
   "outputs": [],
   "source": [
    "pretrained_model=tf.keras.models.Sequential([\n",
    "    base_model,\n",
    "    tf.keras.layers.GlobalAveragePooling2D(),    \n",
    "    tf.keras.layers.Dense(25, activation='softmax')\n",
    "])\n",
    "\n",
    "pretrained_model.compile(optimizer='adam',\n",
    "    loss='sparse_categorical_crossentropy',\n",
    "    metrics=['accuracy'])"
   ]
  },
  {
   "cell_type": "code",
   "execution_count": 27,
   "metadata": {
    "colab": {
     "base_uri": "https://localhost:8080/",
     "height": 255
    },
    "colab_type": "code",
    "executionInfo": {
     "elapsed": 1593,
     "status": "ok",
     "timestamp": 1581687466848,
     "user": {
      "displayName": "Роман Занько",
      "photoUrl": "",
      "userId": "06556604840069702412"
     },
     "user_tz": -180
    },
    "id": "VcYaJlDSaGD9",
    "outputId": "6e132d67-49b0-4b6e-d746-b492e01e0a48"
   },
   "outputs": [
    {
     "name": "stdout",
     "output_type": "stream",
     "text": [
      "Model: \"sequential_1\"\n",
      "_________________________________________________________________\n",
      "Layer (type)                 Output Shape              Param #   \n",
      "=================================================================\n",
      "vgg16 (Model)                (None, 1, 1, 512)         14714688  \n",
      "_________________________________________________________________\n",
      "global_average_pooling2d (Gl (None, 512)               0         \n",
      "_________________________________________________________________\n",
      "dense_2 (Dense)              (None, 25)                12825     \n",
      "=================================================================\n",
      "Total params: 14,727,513\n",
      "Trainable params: 12,825\n",
      "Non-trainable params: 14,714,688\n",
      "_________________________________________________________________\n"
     ]
    }
   ],
   "source": [
    "pretrained_model.summary()"
   ]
  },
  {
   "cell_type": "markdown",
   "metadata": {
    "colab_type": "text",
    "id": "wfDpJgdRaQGM"
   },
   "source": [
    "Prepare data for pretrained model"
   ]
  },
  {
   "cell_type": "code",
   "execution_count": 0,
   "metadata": {
    "colab": {},
    "colab_type": "code",
    "id": "9qHZIfModp2H"
   },
   "outputs": [],
   "source": [
    "X_rgb_train=np.pad(X_train,((0,0),(2,2),(2,2)))\n",
    "X_rgb_valid=np.pad(X_valid,((0,0),(2,2),(2,2)))\n",
    "X_rgb_test=np.pad(X_test,((0,0),(2,2),(2,2)))"
   ]
  },
  {
   "cell_type": "code",
   "execution_count": 0,
   "metadata": {
    "colab": {},
    "colab_type": "code",
    "id": "8xvvG-m2kt8o"
   },
   "outputs": [],
   "source": [
    "X_rgb_train=np.stack((X_rgb_train,)*3, axis=-1)\n",
    "X_rgb_valid=np.stack((X_rgb_valid,)*3, axis=-1)\n",
    "X_rgb_test=np.stack((X_rgb_test,)*3, axis=-1)"
   ]
  },
  {
   "cell_type": "code",
   "execution_count": 33,
   "metadata": {
    "colab": {
     "base_uri": "https://localhost:8080/",
     "height": 68
    },
    "colab_type": "code",
    "executionInfo": {
     "elapsed": 1613,
     "status": "ok",
     "timestamp": 1581687551211,
     "user": {
      "displayName": "Роман Занько",
      "photoUrl": "",
      "userId": "06556604840069702412"
     },
     "user_tz": -180
    },
    "id": "EuKBOxXEogBA",
    "outputId": "41bd9571-c146-4830-a1b4-bf5d1e27f75a"
   },
   "outputs": [
    {
     "name": "stdout",
     "output_type": "stream",
     "text": [
      "(21964, 32, 32, 3)\n",
      "(5491, 32, 32, 3)\n",
      "(7172, 32, 32, 3)\n"
     ]
    }
   ],
   "source": [
    "print(X_rgb_train.shape)\n",
    "print(X_rgb_valid.shape)\n",
    "print(X_rgb_test.shape)"
   ]
  },
  {
   "cell_type": "code",
   "execution_count": 0,
   "metadata": {
    "colab": {},
    "colab_type": "code",
    "id": "fL0RBppUhTlc"
   },
   "outputs": [],
   "source": [
    "np_rotation_iterator=tf.keras.preprocessing.image.NumpyArrayIterator(X_rgb_train,Y_train,img_rotation_generator,batch_size=BATCH_SIZE)\n",
    "np_shear_iterator=tf.keras.preprocessing.image.NumpyArrayIterator(X_rgb_train,Y_train,img_shear_generator,batch_size=BATCH_SIZE)"
   ]
  },
  {
   "cell_type": "markdown",
   "metadata": {
    "colab_type": "text",
    "id": "8OPCCqvEh1Hm"
   },
   "source": [
    "Fit pretrained model"
   ]
  },
  {
   "cell_type": "code",
   "execution_count": 34,
   "metadata": {
    "colab": {
     "base_uri": "https://localhost:8080/",
     "height": 1000
    },
    "colab_type": "code",
    "executionInfo": {
     "elapsed": 242571,
     "status": "ok",
     "timestamp": 1581687819906,
     "user": {
      "displayName": "Роман Занько",
      "photoUrl": "",
      "userId": "06556604840069702412"
     },
     "user_tz": -180
    },
    "id": "tHWcP85bh31-",
    "outputId": "8c0c12b9-fcc6-4fce-a8d9-d47254598943"
   },
   "outputs": [
    {
     "name": "stdout",
     "output_type": "stream",
     "text": [
      "Train on 21964 samples, validate on 5491 samples\n",
      "Epoch 1/30\n",
      "21964/21964 [==============================] - 9s 422us/sample - loss: 2.0298 - accuracy: 0.5009 - val_loss: 1.4621 - val_accuracy: 0.6303\n",
      "Epoch 2/30\n",
      "21964/21964 [==============================] - 8s 358us/sample - loss: 1.2504 - accuracy: 0.6940 - val_loss: 1.0906 - val_accuracy: 0.7410\n",
      "Epoch 3/30\n",
      "21964/21964 [==============================] - 8s 356us/sample - loss: 0.9787 - accuracy: 0.7631 - val_loss: 0.8920 - val_accuracy: 0.7909\n",
      "Epoch 4/30\n",
      "21964/21964 [==============================] - 8s 361us/sample - loss: 0.8174 - accuracy: 0.8091 - val_loss: 0.7631 - val_accuracy: 0.8190\n",
      "Epoch 5/30\n",
      "21964/21964 [==============================] - 8s 370us/sample - loss: 0.7056 - accuracy: 0.8369 - val_loss: 0.6730 - val_accuracy: 0.8441\n",
      "Epoch 6/30\n",
      "21964/21964 [==============================] - 8s 367us/sample - loss: 0.6226 - accuracy: 0.8595 - val_loss: 0.6025 - val_accuracy: 0.8587\n",
      "Epoch 7/30\n",
      "21964/21964 [==============================] - 8s 367us/sample - loss: 0.5559 - accuracy: 0.8776 - val_loss: 0.5370 - val_accuracy: 0.8798\n",
      "Epoch 8/30\n",
      "21964/21964 [==============================] - 8s 364us/sample - loss: 0.5013 - accuracy: 0.8926 - val_loss: 0.4888 - val_accuracy: 0.8936\n",
      "Epoch 9/30\n",
      "21964/21964 [==============================] - 8s 365us/sample - loss: 0.4565 - accuracy: 0.9048 - val_loss: 0.4472 - val_accuracy: 0.9040\n",
      "Epoch 10/30\n",
      "21964/21964 [==============================] - 8s 366us/sample - loss: 0.4187 - accuracy: 0.9139 - val_loss: 0.4149 - val_accuracy: 0.9117\n",
      "Epoch 11/30\n",
      "21964/21964 [==============================] - 8s 363us/sample - loss: 0.3853 - accuracy: 0.9230 - val_loss: 0.3842 - val_accuracy: 0.9219\n",
      "Epoch 12/30\n",
      "21964/21964 [==============================] - 8s 366us/sample - loss: 0.3573 - accuracy: 0.9314 - val_loss: 0.3585 - val_accuracy: 0.9268\n",
      "Epoch 13/30\n",
      "21964/21964 [==============================] - 8s 363us/sample - loss: 0.3321 - accuracy: 0.9375 - val_loss: 0.3343 - val_accuracy: 0.9339\n",
      "Epoch 14/30\n",
      "21964/21964 [==============================] - 8s 362us/sample - loss: 0.3104 - accuracy: 0.9432 - val_loss: 0.3124 - val_accuracy: 0.9381\n",
      "Epoch 15/30\n",
      "21964/21964 [==============================] - 8s 361us/sample - loss: 0.2906 - accuracy: 0.9476 - val_loss: 0.2927 - val_accuracy: 0.9414\n",
      "Epoch 16/30\n",
      "21964/21964 [==============================] - 8s 362us/sample - loss: 0.2732 - accuracy: 0.9504 - val_loss: 0.2769 - val_accuracy: 0.9477\n",
      "Epoch 17/30\n",
      "21964/21964 [==============================] - 8s 361us/sample - loss: 0.2575 - accuracy: 0.9555 - val_loss: 0.2617 - val_accuracy: 0.9485\n",
      "Epoch 18/30\n",
      "21964/21964 [==============================] - 8s 362us/sample - loss: 0.2436 - accuracy: 0.9572 - val_loss: 0.2480 - val_accuracy: 0.9532\n",
      "Epoch 19/30\n",
      "21964/21964 [==============================] - 8s 367us/sample - loss: 0.2301 - accuracy: 0.9612 - val_loss: 0.2388 - val_accuracy: 0.9548\n",
      "Epoch 20/30\n",
      "21964/21964 [==============================] - 8s 366us/sample - loss: 0.2189 - accuracy: 0.9643 - val_loss: 0.2295 - val_accuracy: 0.9521\n",
      "Epoch 21/30\n",
      "21964/21964 [==============================] - 8s 364us/sample - loss: 0.2077 - accuracy: 0.9666 - val_loss: 0.2119 - val_accuracy: 0.9643\n",
      "Epoch 22/30\n",
      "21964/21964 [==============================] - 8s 365us/sample - loss: 0.1980 - accuracy: 0.9675 - val_loss: 0.2046 - val_accuracy: 0.9647\n",
      "Epoch 23/30\n",
      "21964/21964 [==============================] - 8s 362us/sample - loss: 0.1884 - accuracy: 0.9702 - val_loss: 0.1951 - val_accuracy: 0.9652\n",
      "Epoch 24/30\n",
      "21964/21964 [==============================] - 8s 362us/sample - loss: 0.1800 - accuracy: 0.9706 - val_loss: 0.1878 - val_accuracy: 0.9661\n",
      "Epoch 25/30\n",
      "21964/21964 [==============================] - 8s 364us/sample - loss: 0.1721 - accuracy: 0.9732 - val_loss: 0.1806 - val_accuracy: 0.9667\n",
      "Epoch 26/30\n",
      "21964/21964 [==============================] - 8s 366us/sample - loss: 0.1653 - accuracy: 0.9749 - val_loss: 0.1720 - val_accuracy: 0.9694\n",
      "Epoch 27/30\n",
      "21964/21964 [==============================] - 8s 367us/sample - loss: 0.1583 - accuracy: 0.9763 - val_loss: 0.1649 - val_accuracy: 0.9730\n",
      "Epoch 28/30\n",
      "21964/21964 [==============================] - 8s 364us/sample - loss: 0.1518 - accuracy: 0.9777 - val_loss: 0.1596 - val_accuracy: 0.9729\n",
      "Epoch 29/30\n",
      "21964/21964 [==============================] - 8s 361us/sample - loss: 0.1461 - accuracy: 0.9785 - val_loss: 0.1540 - val_accuracy: 0.9761\n",
      "Epoch 30/30\n",
      "21964/21964 [==============================] - 8s 364us/sample - loss: 0.1406 - accuracy: 0.9801 - val_loss: 0.1479 - val_accuracy: 0.9771\n"
     ]
    }
   ],
   "source": [
    "history=pretrained_model.fit(X_rgb_train,Y_train,epochs=EPOCHS,validation_data=(X_rgb_valid,Y_valid))"
   ]
  },
  {
   "cell_type": "markdown",
   "metadata": {
    "colab_type": "text",
    "id": "4gmRoOCX8Vbx"
   },
   "source": [
    "Evaluate pretrained model"
   ]
  },
  {
   "cell_type": "code",
   "execution_count": 35,
   "metadata": {
    "colab": {
     "base_uri": "https://localhost:8080/",
     "height": 51
    },
    "colab_type": "code",
    "executionInfo": {
     "elapsed": 3724,
     "status": "ok",
     "timestamp": 1581687833695,
     "user": {
      "displayName": "Роман Занько",
      "photoUrl": "",
      "userId": "06556604840069702412"
     },
     "user_tz": -180
    },
    "id": "1Q6OZi8XtahW",
    "outputId": "3bccb701-da37-493d-8b14-0009cf51c136"
   },
   "outputs": [
    {
     "name": "stdout",
     "output_type": "stream",
     "text": [
      "7172/7172 [==============================] - 2s 326us/sample - loss: 0.3457 - accuracy: 0.9030\n"
     ]
    },
    {
     "data": {
      "text/plain": [
       "[0.3457407342011345, 0.90295595]"
      ]
     },
     "execution_count": 35,
     "metadata": {
      "tags": []
     },
     "output_type": "execute_result"
    }
   ],
   "source": [
    "pretrained_model.evaluate(X_rgb_test,Y_test)"
   ]
  },
  {
   "cell_type": "markdown",
   "metadata": {
    "colab_type": "text",
    "id": "Uo3y0C1_8nxJ"
   },
   "source": [
    "Fit pretrained model with data augmentation"
   ]
  },
  {
   "cell_type": "code",
   "execution_count": 38,
   "metadata": {
    "colab": {
     "base_uri": "https://localhost:8080/",
     "height": 1000
    },
    "colab_type": "code",
    "executionInfo": {
     "elapsed": 712446,
     "status": "ok",
     "timestamp": 1581688790745,
     "user": {
      "displayName": "Роман Занько",
      "photoUrl": "",
      "userId": "06556604840069702412"
     },
     "user_tz": -180
    },
    "id": "ccvIG5dM818Q",
    "outputId": "857416d2-53c7-41f4-e4e4-2405e16fec2d"
   },
   "outputs": [
    {
     "name": "stdout",
     "output_type": "stream",
     "text": [
      "WARNING:tensorflow:sample_weight modes were coerced from\n",
      "  ...\n",
      "    to  \n",
      "  ['...']\n",
      "Train for 687 steps, validate on 5491 samples\n",
      "Epoch 30/59\n",
      "687/687 [==============================] - 12s 18ms/step - loss: 5.0760 - accuracy: 0.3093 - val_loss: 1.7829 - val_accuracy: 0.5618\n",
      "Epoch 31/59\n",
      "687/687 [==============================] - 12s 18ms/step - loss: 2.9460 - accuracy: 0.4073 - val_loss: 1.2443 - val_accuracy: 0.6383\n",
      "Epoch 32/59\n",
      "687/687 [==============================] - 12s 17ms/step - loss: 2.3801 - accuracy: 0.4604 - val_loss: 0.8433 - val_accuracy: 0.7212\n",
      "Epoch 33/59\n",
      "687/687 [==============================] - 12s 17ms/step - loss: 2.0860 - accuracy: 0.4907 - val_loss: 0.6912 - val_accuracy: 0.7671\n",
      "Epoch 34/59\n",
      "687/687 [==============================] - 12s 18ms/step - loss: 1.8507 - accuracy: 0.5198 - val_loss: 0.5980 - val_accuracy: 0.7918\n",
      "Epoch 35/59\n",
      "687/687 [==============================] - 12s 18ms/step - loss: 1.6817 - accuracy: 0.5428 - val_loss: 0.5496 - val_accuracy: 0.8102\n",
      "Epoch 36/59\n",
      "687/687 [==============================] - 12s 18ms/step - loss: 1.5644 - accuracy: 0.5592 - val_loss: 0.5218 - val_accuracy: 0.8130\n",
      "Epoch 37/59\n",
      "687/687 [==============================] - 12s 17ms/step - loss: 1.4468 - accuracy: 0.5784 - val_loss: 0.5605 - val_accuracy: 0.8020\n",
      "Epoch 38/59\n",
      "687/687 [==============================] - 12s 17ms/step - loss: 1.3713 - accuracy: 0.5946 - val_loss: 0.5481 - val_accuracy: 0.8195\n",
      "Epoch 39/59\n",
      "687/687 [==============================] - 12s 17ms/step - loss: 1.3047 - accuracy: 0.6024 - val_loss: 0.5550 - val_accuracy: 0.8155\n",
      "Epoch 40/59\n",
      "687/687 [==============================] - 12s 18ms/step - loss: 1.2369 - accuracy: 0.6199 - val_loss: 0.5764 - val_accuracy: 0.8075\n",
      "Epoch 41/59\n",
      "687/687 [==============================] - 12s 18ms/step - loss: 1.1975 - accuracy: 0.6297 - val_loss: 0.5529 - val_accuracy: 0.8161\n",
      "Epoch 42/59\n",
      "687/687 [==============================] - 12s 17ms/step - loss: 1.1488 - accuracy: 0.6361 - val_loss: 0.5682 - val_accuracy: 0.8084\n",
      "Epoch 43/59\n",
      "687/687 [==============================] - 12s 17ms/step - loss: 1.1151 - accuracy: 0.6477 - val_loss: 0.5726 - val_accuracy: 0.8079\n",
      "Epoch 44/59\n",
      "687/687 [==============================] - 12s 17ms/step - loss: 1.0721 - accuracy: 0.6568 - val_loss: 0.5885 - val_accuracy: 0.8009\n",
      "Epoch 45/59\n",
      "687/687 [==============================] - 12s 17ms/step - loss: 1.0350 - accuracy: 0.6655 - val_loss: 0.5525 - val_accuracy: 0.8233\n",
      "Epoch 46/59\n",
      "687/687 [==============================] - 12s 18ms/step - loss: 1.0124 - accuracy: 0.6727 - val_loss: 0.5572 - val_accuracy: 0.8197\n",
      "Epoch 47/59\n",
      "687/687 [==============================] - 12s 17ms/step - loss: 0.9737 - accuracy: 0.6835 - val_loss: 0.5514 - val_accuracy: 0.8243\n",
      "Epoch 48/59\n",
      "687/687 [==============================] - 12s 17ms/step - loss: 0.9573 - accuracy: 0.6871 - val_loss: 0.5733 - val_accuracy: 0.8142\n",
      "Epoch 49/59\n",
      "687/687 [==============================] - 12s 17ms/step - loss: 0.9268 - accuracy: 0.6950 - val_loss: 0.5958 - val_accuracy: 0.8044\n",
      "Epoch 50/59\n",
      "687/687 [==============================] - 12s 17ms/step - loss: 0.9090 - accuracy: 0.6967 - val_loss: 0.6109 - val_accuracy: 0.7993\n",
      "Epoch 51/59\n",
      "687/687 [==============================] - 12s 18ms/step - loss: 0.8931 - accuracy: 0.7014 - val_loss: 0.5969 - val_accuracy: 0.8084\n",
      "Epoch 52/59\n",
      "687/687 [==============================] - 12s 17ms/step - loss: 0.8660 - accuracy: 0.7098 - val_loss: 0.5863 - val_accuracy: 0.8135\n",
      "Epoch 53/59\n",
      "687/687 [==============================] - 12s 17ms/step - loss: 0.8659 - accuracy: 0.7088 - val_loss: 0.6289 - val_accuracy: 0.7873\n",
      "Epoch 54/59\n",
      "687/687 [==============================] - 12s 17ms/step - loss: 0.8400 - accuracy: 0.7179 - val_loss: 0.6030 - val_accuracy: 0.8006\n",
      "Epoch 55/59\n",
      "687/687 [==============================] - 12s 17ms/step - loss: 0.8229 - accuracy: 0.7251 - val_loss: 0.5865 - val_accuracy: 0.8073\n",
      "Epoch 56/59\n",
      "687/687 [==============================] - 12s 17ms/step - loss: 0.8079 - accuracy: 0.7300 - val_loss: 0.5879 - val_accuracy: 0.8044\n",
      "Epoch 57/59\n",
      "687/687 [==============================] - 12s 17ms/step - loss: 0.7986 - accuracy: 0.7317 - val_loss: 0.5811 - val_accuracy: 0.8130\n",
      "Epoch 58/59\n",
      "687/687 [==============================] - 12s 17ms/step - loss: 0.7914 - accuracy: 0.7303 - val_loss: 0.5909 - val_accuracy: 0.8097\n",
      "Epoch 59/59\n",
      "687/687 [==============================] - 12s 17ms/step - loss: 0.7683 - accuracy: 0.7408 - val_loss: 0.5880 - val_accuracy: 0.8057\n",
      "WARNING:tensorflow:sample_weight modes were coerced from\n",
      "  ...\n",
      "    to  \n",
      "  ['...']\n",
      "Train for 687 steps, validate on 5491 samples\n",
      "Epoch 59/88\n",
      "687/687 [==============================] - 12s 17ms/step - loss: 2.1342 - accuracy: 0.5269 - val_loss: 0.5576 - val_accuracy: 0.8099\n",
      "Epoch 60/88\n",
      "687/687 [==============================] - 12s 18ms/step - loss: 1.4177 - accuracy: 0.6054 - val_loss: 0.4893 - val_accuracy: 0.8388\n",
      "Epoch 61/88\n",
      "687/687 [==============================] - 12s 17ms/step - loss: 1.1971 - accuracy: 0.6471 - val_loss: 0.4675 - val_accuracy: 0.8487\n",
      "Epoch 62/88\n",
      "687/687 [==============================] - 12s 17ms/step - loss: 1.0619 - accuracy: 0.6762 - val_loss: 0.4317 - val_accuracy: 0.8651\n",
      "Epoch 63/88\n",
      "687/687 [==============================] - 12s 17ms/step - loss: 0.9679 - accuracy: 0.6993 - val_loss: 0.4338 - val_accuracy: 0.8632\n",
      "Epoch 64/88\n",
      "687/687 [==============================] - 12s 17ms/step - loss: 0.8929 - accuracy: 0.7120 - val_loss: 0.4227 - val_accuracy: 0.8680\n",
      "Epoch 65/88\n",
      "687/687 [==============================] - 12s 18ms/step - loss: 0.8449 - accuracy: 0.7283 - val_loss: 0.4056 - val_accuracy: 0.8756\n",
      "Epoch 66/88\n",
      "687/687 [==============================] - 12s 17ms/step - loss: 0.7981 - accuracy: 0.7433 - val_loss: 0.3896 - val_accuracy: 0.8840\n",
      "Epoch 67/88\n",
      "687/687 [==============================] - 12s 17ms/step - loss: 0.7559 - accuracy: 0.7520 - val_loss: 0.4046 - val_accuracy: 0.8751\n",
      "Epoch 68/88\n",
      "687/687 [==============================] - 12s 18ms/step - loss: 0.7303 - accuracy: 0.7594 - val_loss: 0.3880 - val_accuracy: 0.8829\n",
      "Epoch 69/88\n",
      "687/687 [==============================] - 12s 17ms/step - loss: 0.6904 - accuracy: 0.7750 - val_loss: 0.3825 - val_accuracy: 0.8803\n",
      "Epoch 70/88\n",
      "687/687 [==============================] - 12s 18ms/step - loss: 0.6658 - accuracy: 0.7784 - val_loss: 0.3828 - val_accuracy: 0.8834\n",
      "Epoch 71/88\n",
      "687/687 [==============================] - 12s 17ms/step - loss: 0.6477 - accuracy: 0.7864 - val_loss: 0.3666 - val_accuracy: 0.8942\n",
      "Epoch 72/88\n",
      "687/687 [==============================] - 12s 17ms/step - loss: 0.6210 - accuracy: 0.7950 - val_loss: 0.3705 - val_accuracy: 0.8913\n",
      "Epoch 73/88\n",
      "687/687 [==============================] - 12s 17ms/step - loss: 0.6075 - accuracy: 0.7990 - val_loss: 0.3597 - val_accuracy: 0.8964\n",
      "Epoch 74/88\n",
      "687/687 [==============================] - 12s 17ms/step - loss: 0.5782 - accuracy: 0.8056 - val_loss: 0.3639 - val_accuracy: 0.8927\n",
      "Epoch 75/88\n",
      "687/687 [==============================] - 12s 18ms/step - loss: 0.5680 - accuracy: 0.8115 - val_loss: 0.3510 - val_accuracy: 0.9006\n",
      "Epoch 76/88\n",
      "687/687 [==============================] - 12s 17ms/step - loss: 0.5562 - accuracy: 0.8174 - val_loss: 0.3529 - val_accuracy: 0.8989\n",
      "Epoch 77/88\n",
      "687/687 [==============================] - 12s 17ms/step - loss: 0.5406 - accuracy: 0.8193 - val_loss: 0.3547 - val_accuracy: 0.8956\n",
      "Epoch 78/88\n",
      "687/687 [==============================] - 12s 17ms/step - loss: 0.5310 - accuracy: 0.8249 - val_loss: 0.3500 - val_accuracy: 0.9004\n",
      "Epoch 79/88\n",
      "687/687 [==============================] - 12s 17ms/step - loss: 0.5159 - accuracy: 0.8299 - val_loss: 0.3346 - val_accuracy: 0.9108\n",
      "Epoch 80/88\n",
      "687/687 [==============================] - 12s 18ms/step - loss: 0.5094 - accuracy: 0.8335 - val_loss: 0.3314 - val_accuracy: 0.9120\n",
      "Epoch 81/88\n",
      "687/687 [==============================] - 12s 17ms/step - loss: 0.4965 - accuracy: 0.8380 - val_loss: 0.3396 - val_accuracy: 0.9040\n",
      "Epoch 82/88\n",
      "687/687 [==============================] - 12s 17ms/step - loss: 0.4860 - accuracy: 0.8411 - val_loss: 0.3357 - val_accuracy: 0.9109\n",
      "Epoch 83/88\n",
      "687/687 [==============================] - 12s 17ms/step - loss: 0.4684 - accuracy: 0.8443 - val_loss: 0.3296 - val_accuracy: 0.9108\n",
      "Epoch 84/88\n",
      "687/687 [==============================] - 11s 17ms/step - loss: 0.4562 - accuracy: 0.8526 - val_loss: 0.3314 - val_accuracy: 0.9060\n",
      "Epoch 85/88\n",
      "687/687 [==============================] - 12s 17ms/step - loss: 0.4583 - accuracy: 0.8518 - val_loss: 0.3270 - val_accuracy: 0.9073\n",
      "Epoch 86/88\n",
      "687/687 [==============================] - 12s 17ms/step - loss: 0.4388 - accuracy: 0.8579 - val_loss: 0.3326 - val_accuracy: 0.9044\n",
      "Epoch 87/88\n",
      "687/687 [==============================] - 12s 17ms/step - loss: 0.4478 - accuracy: 0.8552 - val_loss: 0.3242 - val_accuracy: 0.9097\n",
      "Epoch 88/88\n",
      "687/687 [==============================] - 12s 17ms/step - loss: 0.4326 - accuracy: 0.8600 - val_loss: 0.3219 - val_accuracy: 0.9073\n"
     ]
    },
    {
     "data": {
      "text/plain": [
       "<tensorflow.python.keras.callbacks.History at 0x7f824aa29ef0>"
      ]
     },
     "execution_count": 38,
     "metadata": {
      "tags": []
     },
     "output_type": "execute_result"
    }
   ],
   "source": [
    "history=pretrained_model.fit(np_rotation_iterator,epochs=history.epoch[-1]+EPOCHS,validation_data=(X_rgb_valid,Y_valid),initial_epoch=history.epoch[-1])\n",
    "pretrained_model.fit(np_shear_iterator,epochs=history.epoch[-1]+EPOCHS,validation_data=(X_rgb_valid,Y_valid),initial_epoch=history.epoch[-1])"
   ]
  },
  {
   "cell_type": "markdown",
   "metadata": {
    "colab_type": "text",
    "id": "BA0sQVcE8-H4"
   },
   "source": [
    "Evaluate pretrained model after training on augmentation data"
   ]
  },
  {
   "cell_type": "code",
   "execution_count": 39,
   "metadata": {
    "colab": {
     "base_uri": "https://localhost:8080/",
     "height": 51
    },
    "colab_type": "code",
    "executionInfo": {
     "elapsed": 2856,
     "status": "ok",
     "timestamp": 1581688807536,
     "user": {
      "displayName": "Роман Занько",
      "photoUrl": "",
      "userId": "06556604840069702412"
     },
     "user_tz": -180
    },
    "id": "BQqXUUTN9CHQ",
    "outputId": "a657fc1b-2aca-4320-fb5a-63d7f6f78260"
   },
   "outputs": [
    {
     "name": "stdout",
     "output_type": "stream",
     "text": [
      "7172/7172 [==============================] - 2s 296us/sample - loss: 0.5223 - accuracy: 0.8250\n"
     ]
    },
    {
     "data": {
      "text/plain": [
       "[0.5223141711847249, 0.82501394]"
      ]
     },
     "execution_count": 39,
     "metadata": {
      "tags": []
     },
     "output_type": "execute_result"
    }
   ],
   "source": [
    "pretrained_model.evaluate(X_rgb_test,Y_test)"
   ]
  }
 ],
 "metadata": {
  "accelerator": "GPU",
  "colab": {
   "authorship_tag": "ABX9TyNtTAqDMpVVX9ABgyPhtYOt",
   "collapsed_sections": [],
   "mount_file_id": "1Ug_-l-f5as48ObWswwd-y5WriXFN3Qm3",
   "name": "lab6.ipynb",
   "provenance": []
  },
  "kernelspec": {
   "display_name": "Python 3",
   "language": "python",
   "name": "python3"
  },
  "language_info": {
   "codemirror_mode": {
    "name": "ipython",
    "version": 3
   },
   "file_extension": ".py",
   "mimetype": "text/x-python",
   "name": "python",
   "nbconvert_exporter": "python",
   "pygments_lexer": "ipython3",
   "version": "3.8.0"
  }
 },
 "nbformat": 4,
 "nbformat_minor": 1
}
